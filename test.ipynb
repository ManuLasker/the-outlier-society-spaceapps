{
 "cells": [
  {
   "cell_type": "code",
   "execution_count": 1,
   "metadata": {},
   "outputs": [
    {
     "name": "stderr",
     "output_type": "stream",
     "text": [
      "2024-10-06 18:32:38.736 WARNING streamlit.runtime.scriptrunner_utils.script_run_context: Thread 'MainThread': missing ScriptRunContext! This warning can be ignored when running in bare mode.\n",
      "2024-10-06 18:32:38.869 \n",
      "  \u001b[33m\u001b[1mWarning:\u001b[0m to view this Streamlit app on a browser, run it with the following\n",
      "  command:\n",
      "\n",
      "    streamlit run /home/manu/bancolombia/col_san_jose/hackaton/space_apps_2024_seismic_detection/.env/lib/python3.10/site-packages/ipykernel_launcher.py [ARGUMENTS]\n",
      "2024-10-06 18:32:38.869 Thread 'MainThread': missing ScriptRunContext! This warning can be ignored when running in bare mode.\n",
      "2024-10-06 18:32:38.870 Thread 'MainThread': missing ScriptRunContext! This warning can be ignored when running in bare mode.\n",
      "2024-10-06 18:32:38.871 No runtime found, using MemoryCacheStorageManager\n",
      "2024-10-06 18:32:38.875 Thread 'MainThread': missing ScriptRunContext! This warning can be ignored when running in bare mode.\n",
      "2024-10-06 18:32:38.876 Thread 'MainThread': missing ScriptRunContext! This warning can be ignored when running in bare mode.\n"
     ]
    },
    {
     "data": {
      "text/html": [
       "<div>\n",
       "<style scoped>\n",
       "    .dataframe tbody tr th:only-of-type {\n",
       "        vertical-align: middle;\n",
       "    }\n",
       "\n",
       "    .dataframe tbody tr th {\n",
       "        vertical-align: top;\n",
       "    }\n",
       "\n",
       "    .dataframe thead th {\n",
       "        text-align: right;\n",
       "    }\n",
       "</style>\n",
       "<table border=\"1\" class=\"dataframe\">\n",
       "  <thead>\n",
       "    <tr style=\"text-align: right;\">\n",
       "      <th></th>\n",
       "      <th>path</th>\n",
       "    </tr>\n",
       "  </thead>\n",
       "  <tbody>\n",
       "    <tr>\n",
       "      <th>0</th>\n",
       "      <td>data/lunar/test/data/S16_GradeA/xa.s16.00.mhz....</td>\n",
       "    </tr>\n",
       "    <tr>\n",
       "      <th>1</th>\n",
       "      <td>data/lunar/test/data/S16_GradeA/xa.s16.00.mhz....</td>\n",
       "    </tr>\n",
       "    <tr>\n",
       "      <th>2</th>\n",
       "      <td>data/lunar/test/data/S16_GradeA/xa.s16.00.mhz....</td>\n",
       "    </tr>\n",
       "    <tr>\n",
       "      <th>3</th>\n",
       "      <td>data/lunar/test/data/S16_GradeA/xa.s16.00.mhz....</td>\n",
       "    </tr>\n",
       "    <tr>\n",
       "      <th>4</th>\n",
       "      <td>data/lunar/test/data/S16_GradeA/xa.s16.00.mhz....</td>\n",
       "    </tr>\n",
       "    <tr>\n",
       "      <th>...</th>\n",
       "      <td>...</td>\n",
       "    </tr>\n",
       "    <tr>\n",
       "      <th>91</th>\n",
       "      <td>data/lunar/test/data/S15_GradeB/xa.s15.00.mhz....</td>\n",
       "    </tr>\n",
       "    <tr>\n",
       "      <th>92</th>\n",
       "      <td>data/lunar/test/data/S15_GradeB/xa.s15.00.mhz....</td>\n",
       "    </tr>\n",
       "    <tr>\n",
       "      <th>93</th>\n",
       "      <td>data/lunar/test/data/S16_GradeB/xa.s16.00.mhz....</td>\n",
       "    </tr>\n",
       "    <tr>\n",
       "      <th>94</th>\n",
       "      <td>data/lunar/test/data/S16_GradeB/xa.s16.00.mhz....</td>\n",
       "    </tr>\n",
       "    <tr>\n",
       "      <th>95</th>\n",
       "      <td>data/lunar/test/data/S16_GradeB/xa.s16.00.mhz....</td>\n",
       "    </tr>\n",
       "  </tbody>\n",
       "</table>\n",
       "<p>96 rows × 1 columns</p>\n",
       "</div>"
      ],
      "text/plain": [
       "                                                 path\n",
       "0   data/lunar/test/data/S16_GradeA/xa.s16.00.mhz....\n",
       "1   data/lunar/test/data/S16_GradeA/xa.s16.00.mhz....\n",
       "2   data/lunar/test/data/S16_GradeA/xa.s16.00.mhz....\n",
       "3   data/lunar/test/data/S16_GradeA/xa.s16.00.mhz....\n",
       "4   data/lunar/test/data/S16_GradeA/xa.s16.00.mhz....\n",
       "..                                                ...\n",
       "91  data/lunar/test/data/S15_GradeB/xa.s15.00.mhz....\n",
       "92  data/lunar/test/data/S15_GradeB/xa.s15.00.mhz....\n",
       "93  data/lunar/test/data/S16_GradeB/xa.s16.00.mhz....\n",
       "94  data/lunar/test/data/S16_GradeB/xa.s16.00.mhz....\n",
       "95  data/lunar/test/data/S16_GradeB/xa.s16.00.mhz....\n",
       "\n",
       "[96 rows x 1 columns]"
      ]
     },
     "execution_count": 1,
     "metadata": {},
     "output_type": "execute_result"
    }
   ],
   "source": [
    "from src.data_utils import get_list_of_data_testing\n",
    "\n",
    "get_list_of_data_testing(\"lunar\", \"mseed\")\n"
   ]
  },
  {
   "cell_type": "code",
   "execution_count": null,
   "metadata": {},
   "outputs": [],
   "source": []
  }
 ],
 "metadata": {
  "kernelspec": {
   "display_name": "Python 3",
   "language": "python",
   "name": "python3"
  },
  "language_info": {
   "codemirror_mode": {
    "name": "ipython",
    "version": 3
   },
   "file_extension": ".py",
   "mimetype": "text/x-python",
   "name": "python",
   "nbconvert_exporter": "python",
   "pygments_lexer": "ipython3",
   "version": "3.10.15"
  }
 },
 "nbformat": 4,
 "nbformat_minor": 2
}
