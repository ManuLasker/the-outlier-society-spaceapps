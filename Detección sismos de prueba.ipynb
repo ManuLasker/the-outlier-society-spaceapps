{
 "cells": [
  {
   "cell_type": "code",
   "execution_count": 1,
   "metadata": {},
   "outputs": [],
   "source": [
    "# Import libraries\n",
    "import numpy as np\n",
    "import pandas as pd\n",
    "from obspy import read\n",
    "from datetime import datetime, timedelta\n",
    "import matplotlib.pyplot as plt\n",
    "from scipy.signal import hilbert\n",
    "from scipy.signal import find_peaks\n",
    "import os\n",
    "from src.data_utils import get_list_of_data_testing, search_in_list"
   ]
  },
  {
   "cell_type": "markdown",
   "metadata": {},
   "source": [
    "Datos Lunares"
   ]
  },
  {
   "cell_type": "code",
   "execution_count": 2,
   "metadata": {},
   "outputs": [
    {
     "name": "stdout",
     "output_type": "stream",
     "text": [
      "Leyendo archivo CSV: data/lunar/test/data/S16_GradeA/xa.s16.00.mhz.1972-11-08HR00_evid00080.csv\n",
      "Leyendo archivo mseed: data/lunar/test/data/S16_GradeA/xa.s16.00.mhz.1972-11-08HR00_evid00080.mseed\n",
      "Reducción de ruido por filtro high-pass, band-pass\n",
      "Finaliza reducción\n",
      "Ejecutando la transformada de hilbert\n",
      "Transformada de hilbert finalizada\n",
      "Iniciando detección de sismos\n",
      "Detección de sismos finalizada\n",
      "Exportando los valores del rango del sismo a una carpeta\n",
      "Archivo guardado en: output/data_rango_sismo/DataRangoSismo_S16_GradeA_xa.s16.00.mhz.1972-11-08HR00_evid00080.csv\n"
     ]
    },
    {
     "name": "stderr",
     "output_type": "stream",
     "text": [
      "/tmp/ipykernel_29378/844006441.py:107: SettingWithCopyWarning: \n",
      "A value is trying to be set on a copy of a slice from a DataFrame.\n",
      "Try using .loc[row_indexer,col_indexer] = value instead\n",
      "\n",
      "See the caveats in the documentation: https://pandas.pydata.org/pandas-docs/stable/user_guide/indexing.html#returning-a-view-versus-a-copy\n",
      "  PicoSismo[\"filename\"] = [base_name]\n"
     ]
    },
    {
     "name": "stdout",
     "output_type": "stream",
     "text": [
      "Leyendo archivo CSV: data/lunar/test/data/S16_GradeA/xa.s16.00.mhz.1974-12-12HR02_evid00168.csv\n",
      "Leyendo archivo mseed: data/lunar/test/data/S16_GradeA/xa.s16.00.mhz.1974-12-12HR02_evid00168.mseed\n",
      "Reducción de ruido por filtro high-pass, band-pass\n",
      "Finaliza reducción\n",
      "Ejecutando la transformada de hilbert\n",
      "Transformada de hilbert finalizada\n",
      "Iniciando detección de sismos\n",
      "Detección de sismos finalizada\n",
      "Exportando los valores del rango del sismo a una carpeta\n",
      "Archivo guardado en: output/data_rango_sismo/DataRangoSismo_S16_GradeA_xa.s16.00.mhz.1974-12-12HR02_evid00168.csv\n"
     ]
    },
    {
     "name": "stderr",
     "output_type": "stream",
     "text": [
      "/tmp/ipykernel_29378/844006441.py:107: SettingWithCopyWarning: \n",
      "A value is trying to be set on a copy of a slice from a DataFrame.\n",
      "Try using .loc[row_indexer,col_indexer] = value instead\n",
      "\n",
      "See the caveats in the documentation: https://pandas.pydata.org/pandas-docs/stable/user_guide/indexing.html#returning-a-view-versus-a-copy\n",
      "  PicoSismo[\"filename\"] = [base_name]\n"
     ]
    },
    {
     "name": "stdout",
     "output_type": "stream",
     "text": [
      "Leyendo archivo CSV: data/lunar/test/data/S16_GradeA/xa.s16.00.mhz.1974-12-15HR00_evid00172.csv\n",
      "Leyendo archivo mseed: data/lunar/test/data/S16_GradeA/xa.s16.00.mhz.1974-12-15HR00_evid00172.mseed\n",
      "Reducción de ruido por filtro high-pass, band-pass\n",
      "Finaliza reducción\n",
      "Ejecutando la transformada de hilbert\n",
      "Transformada de hilbert finalizada\n",
      "Iniciando detección de sismos\n",
      "Detección de sismos finalizada\n",
      "Exportando los valores del rango del sismo a una carpeta\n",
      "Archivo guardado en: output/data_rango_sismo/DataRangoSismo_S16_GradeA_xa.s16.00.mhz.1974-12-15HR00_evid00172.csv\n"
     ]
    },
    {
     "name": "stderr",
     "output_type": "stream",
     "text": [
      "/tmp/ipykernel_29378/844006441.py:107: SettingWithCopyWarning: \n",
      "A value is trying to be set on a copy of a slice from a DataFrame.\n",
      "Try using .loc[row_indexer,col_indexer] = value instead\n",
      "\n",
      "See the caveats in the documentation: https://pandas.pydata.org/pandas-docs/stable/user_guide/indexing.html#returning-a-view-versus-a-copy\n",
      "  PicoSismo[\"filename\"] = [base_name]\n"
     ]
    },
    {
     "name": "stdout",
     "output_type": "stream",
     "text": [
      "Leyendo archivo CSV: data/lunar/test/data/S16_GradeA/xa.s16.00.mhz.1973-07-31HR00_evid00123.csv\n",
      "Leyendo archivo mseed: data/lunar/test/data/S16_GradeA/xa.s16.00.mhz.1973-07-31HR00_evid00123.mseed\n",
      "Reducción de ruido por filtro high-pass, band-pass\n",
      "Finaliza reducción\n",
      "Ejecutando la transformada de hilbert\n",
      "Transformada de hilbert finalizada\n",
      "Iniciando detección de sismos\n",
      "Detección de sismos finalizada\n",
      "Exportando los valores del rango del sismo a una carpeta\n",
      "Archivo guardado en: output/data_rango_sismo/DataRangoSismo_S16_GradeA_xa.s16.00.mhz.1973-07-31HR00_evid00123.csv\n"
     ]
    },
    {
     "name": "stderr",
     "output_type": "stream",
     "text": [
      "/tmp/ipykernel_29378/844006441.py:107: SettingWithCopyWarning: \n",
      "A value is trying to be set on a copy of a slice from a DataFrame.\n",
      "Try using .loc[row_indexer,col_indexer] = value instead\n",
      "\n",
      "See the caveats in the documentation: https://pandas.pydata.org/pandas-docs/stable/user_guide/indexing.html#returning-a-view-versus-a-copy\n",
      "  PicoSismo[\"filename\"] = [base_name]\n"
     ]
    },
    {
     "name": "stdout",
     "output_type": "stream",
     "text": [
      "Leyendo archivo CSV: data/lunar/test/data/S16_GradeA/xa.s16.00.mhz.1972-11-06HR00_evid00079.csv\n",
      "Leyendo archivo mseed: data/lunar/test/data/S16_GradeA/xa.s16.00.mhz.1972-11-06HR00_evid00079.mseed\n",
      "Reducción de ruido por filtro high-pass, band-pass\n",
      "Finaliza reducción\n",
      "Ejecutando la transformada de hilbert\n",
      "Transformada de hilbert finalizada\n",
      "Iniciando detección de sismos\n",
      "Detección de sismos finalizada\n",
      "Exportando los valores del rango del sismo a una carpeta\n",
      "Archivo guardado en: output/data_rango_sismo/DataRangoSismo_S16_GradeA_xa.s16.00.mhz.1972-11-06HR00_evid00079.csv\n"
     ]
    },
    {
     "name": "stderr",
     "output_type": "stream",
     "text": [
      "/tmp/ipykernel_29378/844006441.py:107: SettingWithCopyWarning: \n",
      "A value is trying to be set on a copy of a slice from a DataFrame.\n",
      "Try using .loc[row_indexer,col_indexer] = value instead\n",
      "\n",
      "See the caveats in the documentation: https://pandas.pydata.org/pandas-docs/stable/user_guide/indexing.html#returning-a-view-versus-a-copy\n",
      "  PicoSismo[\"filename\"] = [base_name]\n"
     ]
    },
    {
     "name": "stdout",
     "output_type": "stream",
     "text": [
      "Leyendo archivo CSV: data/lunar/test/data/S16_GradeA/xa.s16.00.mhz.1972-11-14HR00_evid00081.csv\n",
      "Leyendo archivo mseed: data/lunar/test/data/S16_GradeA/xa.s16.00.mhz.1972-11-14HR00_evid00081.mseed\n",
      "Reducción de ruido por filtro high-pass, band-pass\n",
      "Finaliza reducción\n",
      "Ejecutando la transformada de hilbert\n",
      "Transformada de hilbert finalizada\n",
      "Iniciando detección de sismos\n",
      "Detección de sismos finalizada\n",
      "Exportando los valores del rango del sismo a una carpeta\n",
      "Archivo guardado en: output/data_rango_sismo/DataRangoSismo_S16_GradeA_xa.s16.00.mhz.1972-11-14HR00_evid00081.csv\n"
     ]
    },
    {
     "name": "stderr",
     "output_type": "stream",
     "text": [
      "/tmp/ipykernel_29378/844006441.py:107: SettingWithCopyWarning: \n",
      "A value is trying to be set on a copy of a slice from a DataFrame.\n",
      "Try using .loc[row_indexer,col_indexer] = value instead\n",
      "\n",
      "See the caveats in the documentation: https://pandas.pydata.org/pandas-docs/stable/user_guide/indexing.html#returning-a-view-versus-a-copy\n",
      "  PicoSismo[\"filename\"] = [base_name]\n"
     ]
    },
    {
     "name": "stdout",
     "output_type": "stream",
     "text": [
      "Leyendo archivo CSV: data/lunar/test/data/S16_GradeA/xa.s16.00.mhz.1972-09-10HR00_evid00075.csv\n",
      "Leyendo archivo mseed: data/lunar/test/data/S16_GradeA/xa.s16.00.mhz.1972-09-10HR00_evid00075.mseed\n",
      "Reducción de ruido por filtro high-pass, band-pass\n",
      "Finaliza reducción\n",
      "Ejecutando la transformada de hilbert\n",
      "Transformada de hilbert finalizada\n",
      "Iniciando detección de sismos\n",
      "Detección de sismos finalizada\n",
      "Exportando los valores del rango del sismo a una carpeta\n",
      "Archivo guardado en: output/data_rango_sismo/DataRangoSismo_S16_GradeA_xa.s16.00.mhz.1972-09-10HR00_evid00075.csv\n"
     ]
    },
    {
     "name": "stderr",
     "output_type": "stream",
     "text": [
      "/tmp/ipykernel_29378/844006441.py:107: SettingWithCopyWarning: \n",
      "A value is trying to be set on a copy of a slice from a DataFrame.\n",
      "Try using .loc[row_indexer,col_indexer] = value instead\n",
      "\n",
      "See the caveats in the documentation: https://pandas.pydata.org/pandas-docs/stable/user_guide/indexing.html#returning-a-view-versus-a-copy\n",
      "  PicoSismo[\"filename\"] = [base_name]\n"
     ]
    },
    {
     "name": "stdout",
     "output_type": "stream",
     "text": [
      "Leyendo archivo CSV: data/lunar/test/data/S16_GradeA/xa.s16.00.mhz.1974-05-19HR00_evid00146.csv\n",
      "Leyendo archivo mseed: data/lunar/test/data/S16_GradeA/xa.s16.00.mhz.1974-05-19HR00_evid00146.mseed\n",
      "Reducción de ruido por filtro high-pass, band-pass\n",
      "Finaliza reducción\n",
      "Ejecutando la transformada de hilbert\n",
      "Transformada de hilbert finalizada\n",
      "Iniciando detección de sismos\n",
      "Detección de sismos finalizada\n",
      "Exportando los valores del rango del sismo a una carpeta\n",
      "Archivo guardado en: output/data_rango_sismo/DataRangoSismo_S16_GradeA_xa.s16.00.mhz.1974-05-19HR00_evid00146.csv\n"
     ]
    },
    {
     "name": "stderr",
     "output_type": "stream",
     "text": [
      "/tmp/ipykernel_29378/844006441.py:107: SettingWithCopyWarning: \n",
      "A value is trying to be set on a copy of a slice from a DataFrame.\n",
      "Try using .loc[row_indexer,col_indexer] = value instead\n",
      "\n",
      "See the caveats in the documentation: https://pandas.pydata.org/pandas-docs/stable/user_guide/indexing.html#returning-a-view-versus-a-copy\n",
      "  PicoSismo[\"filename\"] = [base_name]\n"
     ]
    },
    {
     "name": "stdout",
     "output_type": "stream",
     "text": [
      "Leyendo archivo CSV: data/lunar/test/data/S16_GradeA/xa.s16.00.mhz.1974-12-25HR00_evid00174.csv\n",
      "Leyendo archivo mseed: data/lunar/test/data/S16_GradeA/xa.s16.00.mhz.1974-12-25HR00_evid00174.mseed\n",
      "Reducción de ruido por filtro high-pass, band-pass\n",
      "Finaliza reducción\n",
      "Ejecutando la transformada de hilbert\n",
      "Transformada de hilbert finalizada\n",
      "Iniciando detección de sismos\n",
      "Detección de sismos finalizada\n",
      "Exportando los valores del rango del sismo a una carpeta\n",
      "Archivo guardado en: output/data_rango_sismo/DataRangoSismo_S16_GradeA_xa.s16.00.mhz.1974-12-25HR00_evid00174.csv\n"
     ]
    },
    {
     "name": "stderr",
     "output_type": "stream",
     "text": [
      "/tmp/ipykernel_29378/844006441.py:107: SettingWithCopyWarning: \n",
      "A value is trying to be set on a copy of a slice from a DataFrame.\n",
      "Try using .loc[row_indexer,col_indexer] = value instead\n",
      "\n",
      "See the caveats in the documentation: https://pandas.pydata.org/pandas-docs/stable/user_guide/indexing.html#returning-a-view-versus-a-copy\n",
      "  PicoSismo[\"filename\"] = [base_name]\n"
     ]
    },
    {
     "name": "stdout",
     "output_type": "stream",
     "text": [
      "Leyendo archivo CSV: data/lunar/test/data/S16_GradeA/xa.s16.00.mhz.1975-03-26HR00_evid00186.csv\n",
      "Leyendo archivo mseed: data/lunar/test/data/S16_GradeA/xa.s16.00.mhz.1975-03-26HR00_evid00186.mseed\n",
      "Reducción de ruido por filtro high-pass, band-pass\n",
      "Finaliza reducción\n",
      "Ejecutando la transformada de hilbert\n",
      "Transformada de hilbert finalizada\n",
      "Iniciando detección de sismos\n",
      "Detección de sismos finalizada\n",
      "Exportando los valores del rango del sismo a una carpeta\n",
      "Archivo guardado en: output/data_rango_sismo/DataRangoSismo_S16_GradeA_xa.s16.00.mhz.1975-03-26HR00_evid00186.csv\n"
     ]
    },
    {
     "name": "stderr",
     "output_type": "stream",
     "text": [
      "/tmp/ipykernel_29378/844006441.py:107: SettingWithCopyWarning: \n",
      "A value is trying to be set on a copy of a slice from a DataFrame.\n",
      "Try using .loc[row_indexer,col_indexer] = value instead\n",
      "\n",
      "See the caveats in the documentation: https://pandas.pydata.org/pandas-docs/stable/user_guide/indexing.html#returning-a-view-versus-a-copy\n",
      "  PicoSismo[\"filename\"] = [base_name]\n"
     ]
    },
    {
     "name": "stdout",
     "output_type": "stream",
     "text": [
      "Leyendo archivo CSV: data/lunar/test/data/S16_GradeA/xa.s16.00.mhz.1977-04-17HR00_evid00249.csv\n",
      "Leyendo archivo mseed: data/lunar/test/data/S16_GradeA/xa.s16.00.mhz.1977-04-17HR00_evid00249.mseed\n",
      "Reducción de ruido por filtro high-pass, band-pass\n",
      "Finaliza reducción\n",
      "Ejecutando la transformada de hilbert\n",
      "Transformada de hilbert finalizada\n",
      "Iniciando detección de sismos\n",
      "Detección de sismos finalizada\n",
      "Exportando los valores del rango del sismo a una carpeta\n",
      "Archivo guardado en: output/data_rango_sismo/DataRangoSismo_S16_GradeA_xa.s16.00.mhz.1977-04-17HR00_evid00249.csv\n"
     ]
    },
    {
     "name": "stderr",
     "output_type": "stream",
     "text": [
      "/tmp/ipykernel_29378/844006441.py:107: SettingWithCopyWarning: \n",
      "A value is trying to be set on a copy of a slice from a DataFrame.\n",
      "Try using .loc[row_indexer,col_indexer] = value instead\n",
      "\n",
      "See the caveats in the documentation: https://pandas.pydata.org/pandas-docs/stable/user_guide/indexing.html#returning-a-view-versus-a-copy\n",
      "  PicoSismo[\"filename\"] = [base_name]\n"
     ]
    },
    {
     "name": "stdout",
     "output_type": "stream",
     "text": [
      "Leyendo archivo CSV: data/lunar/test/data/S16_GradeA/xa.s16.00.mhz.1974-11-11HR00_evid00160.csv\n",
      "Leyendo archivo mseed: data/lunar/test/data/S16_GradeA/xa.s16.00.mhz.1974-11-11HR00_evid00160.mseed\n",
      "Reducción de ruido por filtro high-pass, band-pass\n",
      "Finaliza reducción\n",
      "Ejecutando la transformada de hilbert\n",
      "Transformada de hilbert finalizada\n",
      "Iniciando detección de sismos\n",
      "Detección de sismos finalizada\n",
      "Exportando los valores del rango del sismo a una carpeta\n",
      "Archivo guardado en: output/data_rango_sismo/DataRangoSismo_S16_GradeA_xa.s16.00.mhz.1974-11-11HR00_evid00160.csv\n"
     ]
    },
    {
     "name": "stderr",
     "output_type": "stream",
     "text": [
      "/tmp/ipykernel_29378/844006441.py:107: SettingWithCopyWarning: \n",
      "A value is trying to be set on a copy of a slice from a DataFrame.\n",
      "Try using .loc[row_indexer,col_indexer] = value instead\n",
      "\n",
      "See the caveats in the documentation: https://pandas.pydata.org/pandas-docs/stable/user_guide/indexing.html#returning-a-view-versus-a-copy\n",
      "  PicoSismo[\"filename\"] = [base_name]\n"
     ]
    },
    {
     "name": "stdout",
     "output_type": "stream",
     "text": [
      "Leyendo archivo CSV: data/lunar/test/data/S16_GradeA/xa.s16.00.mhz.1975-02-19HR00_evid00180.csv\n",
      "Leyendo archivo mseed: data/lunar/test/data/S16_GradeA/xa.s16.00.mhz.1975-02-19HR00_evid00180.mseed\n",
      "Reducción de ruido por filtro high-pass, band-pass\n",
      "Finaliza reducción\n",
      "Ejecutando la transformada de hilbert\n",
      "Transformada de hilbert finalizada\n",
      "Iniciando detección de sismos\n",
      "Detección de sismos finalizada\n",
      "Exportando los valores del rango del sismo a una carpeta\n",
      "Archivo guardado en: output/data_rango_sismo/DataRangoSismo_S16_GradeA_xa.s16.00.mhz.1975-02-19HR00_evid00180.csv\n"
     ]
    },
    {
     "name": "stderr",
     "output_type": "stream",
     "text": [
      "/tmp/ipykernel_29378/844006441.py:107: SettingWithCopyWarning: \n",
      "A value is trying to be set on a copy of a slice from a DataFrame.\n",
      "Try using .loc[row_indexer,col_indexer] = value instead\n",
      "\n",
      "See the caveats in the documentation: https://pandas.pydata.org/pandas-docs/stable/user_guide/indexing.html#returning-a-view-versus-a-copy\n",
      "  PicoSismo[\"filename\"] = [base_name]\n"
     ]
    },
    {
     "name": "stdout",
     "output_type": "stream",
     "text": [
      "Leyendo archivo CSV: data/lunar/test/data/S16_GradeA/xa.s16.00.mhz.1977-06-02HR00_evid00255.csv\n",
      "Leyendo archivo mseed: data/lunar/test/data/S16_GradeA/xa.s16.00.mhz.1977-06-02HR00_evid00255.mseed\n",
      "Reducción de ruido por filtro high-pass, band-pass\n",
      "Finaliza reducción\n",
      "Ejecutando la transformada de hilbert\n",
      "Transformada de hilbert finalizada\n",
      "Iniciando detección de sismos\n",
      "Detección de sismos finalizada\n",
      "Exportando los valores del rango del sismo a una carpeta\n",
      "Archivo guardado en: output/data_rango_sismo/DataRangoSismo_S16_GradeA_xa.s16.00.mhz.1977-06-02HR00_evid00255.csv\n"
     ]
    },
    {
     "name": "stderr",
     "output_type": "stream",
     "text": [
      "/tmp/ipykernel_29378/844006441.py:107: SettingWithCopyWarning: \n",
      "A value is trying to be set on a copy of a slice from a DataFrame.\n",
      "Try using .loc[row_indexer,col_indexer] = value instead\n",
      "\n",
      "See the caveats in the documentation: https://pandas.pydata.org/pandas-docs/stable/user_guide/indexing.html#returning-a-view-versus-a-copy\n",
      "  PicoSismo[\"filename\"] = [base_name]\n"
     ]
    },
    {
     "name": "stdout",
     "output_type": "stream",
     "text": [
      "Leyendo archivo CSV: data/lunar/test/data/S15_GradeA/xa.s15.00.mhz.1973-10-27HR00_evid00134.csv\n",
      "Leyendo archivo mseed: data/lunar/test/data/S15_GradeA/xa.s15.00.mhz.1973-10-27HR00_evid00134.mseed\n",
      "Reducción de ruido por filtro high-pass, band-pass\n",
      "Finaliza reducción\n",
      "Ejecutando la transformada de hilbert\n",
      "Transformada de hilbert finalizada\n",
      "Iniciando detección de sismos\n",
      "Detección de sismos finalizada\n",
      "Exportando los valores del rango del sismo a una carpeta\n",
      "Archivo guardado en: output/data_rango_sismo/DataRangoSismo_S15_GradeA_xa.s15.00.mhz.1973-10-27HR00_evid00134.csv\n"
     ]
    },
    {
     "name": "stderr",
     "output_type": "stream",
     "text": [
      "/tmp/ipykernel_29378/844006441.py:107: SettingWithCopyWarning: \n",
      "A value is trying to be set on a copy of a slice from a DataFrame.\n",
      "Try using .loc[row_indexer,col_indexer] = value instead\n",
      "\n",
      "See the caveats in the documentation: https://pandas.pydata.org/pandas-docs/stable/user_guide/indexing.html#returning-a-view-versus-a-copy\n",
      "  PicoSismo[\"filename\"] = [base_name]\n"
     ]
    },
    {
     "name": "stdout",
     "output_type": "stream",
     "text": [
      "Leyendo archivo CSV: data/lunar/test/data/S15_GradeA/xa.s15.00.mhz.1975-04-12HR00_evid00190.csv\n",
      "Leyendo archivo mseed: data/lunar/test/data/S15_GradeA/xa.s15.00.mhz.1975-04-12HR00_evid00190.mseed\n",
      "Reducción de ruido por filtro high-pass, band-pass\n",
      "Finaliza reducción\n",
      "Ejecutando la transformada de hilbert\n",
      "Transformada de hilbert finalizada\n",
      "Iniciando detección de sismos\n",
      "Detección de sismos finalizada\n",
      "Exportando los valores del rango del sismo a una carpeta\n",
      "Archivo guardado en: output/data_rango_sismo/DataRangoSismo_S15_GradeA_xa.s15.00.mhz.1975-04-12HR00_evid00190.csv\n"
     ]
    },
    {
     "name": "stderr",
     "output_type": "stream",
     "text": [
      "/tmp/ipykernel_29378/844006441.py:107: SettingWithCopyWarning: \n",
      "A value is trying to be set on a copy of a slice from a DataFrame.\n",
      "Try using .loc[row_indexer,col_indexer] = value instead\n",
      "\n",
      "See the caveats in the documentation: https://pandas.pydata.org/pandas-docs/stable/user_guide/indexing.html#returning-a-view-versus-a-copy\n",
      "  PicoSismo[\"filename\"] = [base_name]\n"
     ]
    },
    {
     "name": "stdout",
     "output_type": "stream",
     "text": [
      "Leyendo archivo CSV: data/lunar/test/data/S15_GradeA/xa.s15.00.mhz.1974-11-21HR00_evid00166.csv\n",
      "Leyendo archivo mseed: data/lunar/test/data/S15_GradeA/xa.s15.00.mhz.1974-11-21HR00_evid00166.mseed\n",
      "Reducción de ruido por filtro high-pass, band-pass\n",
      "Finaliza reducción\n",
      "Ejecutando la transformada de hilbert\n",
      "Transformada de hilbert finalizada\n",
      "Iniciando detección de sismos\n",
      "Detección de sismos finalizada\n",
      "Exportando los valores del rango del sismo a una carpeta\n",
      "Archivo guardado en: output/data_rango_sismo/DataRangoSismo_S15_GradeA_xa.s15.00.mhz.1974-11-21HR00_evid00166.csv\n"
     ]
    },
    {
     "name": "stderr",
     "output_type": "stream",
     "text": [
      "/tmp/ipykernel_29378/844006441.py:107: SettingWithCopyWarning: \n",
      "A value is trying to be set on a copy of a slice from a DataFrame.\n",
      "Try using .loc[row_indexer,col_indexer] = value instead\n",
      "\n",
      "See the caveats in the documentation: https://pandas.pydata.org/pandas-docs/stable/user_guide/indexing.html#returning-a-view-versus-a-copy\n",
      "  PicoSismo[\"filename\"] = [base_name]\n"
     ]
    },
    {
     "name": "stdout",
     "output_type": "stream",
     "text": [
      "Leyendo archivo CSV: data/lunar/test/data/S15_GradeA/xa.s15.00.mhz.1973-04-04HR00_evid00098.csv\n",
      "Leyendo archivo mseed: data/lunar/test/data/S15_GradeA/xa.s15.00.mhz.1973-04-04HR00_evid00098.mseed\n",
      "Reducción de ruido por filtro high-pass, band-pass\n",
      "Finaliza reducción\n",
      "Ejecutando la transformada de hilbert\n",
      "Transformada de hilbert finalizada\n",
      "Iniciando detección de sismos\n",
      "Detección de sismos finalizada\n",
      "Exportando los valores del rango del sismo a una carpeta\n",
      "Archivo guardado en: output/data_rango_sismo/DataRangoSismo_S15_GradeA_xa.s15.00.mhz.1973-04-04HR00_evid00098.csv\n"
     ]
    },
    {
     "name": "stderr",
     "output_type": "stream",
     "text": [
      "/tmp/ipykernel_29378/844006441.py:107: SettingWithCopyWarning: \n",
      "A value is trying to be set on a copy of a slice from a DataFrame.\n",
      "Try using .loc[row_indexer,col_indexer] = value instead\n",
      "\n",
      "See the caveats in the documentation: https://pandas.pydata.org/pandas-docs/stable/user_guide/indexing.html#returning-a-view-versus-a-copy\n",
      "  PicoSismo[\"filename\"] = [base_name]\n"
     ]
    },
    {
     "name": "stdout",
     "output_type": "stream",
     "text": [
      "Leyendo archivo CSV: data/lunar/test/data/S15_GradeA/xa.s15.00.mhz.1974-11-17HR00_evid00162.csv\n",
      "Leyendo archivo mseed: data/lunar/test/data/S15_GradeA/xa.s15.00.mhz.1974-11-17HR00_evid00162.mseed\n",
      "Reducción de ruido por filtro high-pass, band-pass\n",
      "Finaliza reducción\n",
      "Ejecutando la transformada de hilbert\n",
      "Transformada de hilbert finalizada\n",
      "Iniciando detección de sismos\n",
      "Detección de sismos finalizada\n",
      "Exportando los valores del rango del sismo a una carpeta\n",
      "Archivo guardado en: output/data_rango_sismo/DataRangoSismo_S15_GradeA_xa.s15.00.mhz.1974-11-17HR00_evid00162.csv\n"
     ]
    },
    {
     "name": "stderr",
     "output_type": "stream",
     "text": [
      "/tmp/ipykernel_29378/844006441.py:107: SettingWithCopyWarning: \n",
      "A value is trying to be set on a copy of a slice from a DataFrame.\n",
      "Try using .loc[row_indexer,col_indexer] = value instead\n",
      "\n",
      "See the caveats in the documentation: https://pandas.pydata.org/pandas-docs/stable/user_guide/indexing.html#returning-a-view-versus-a-copy\n",
      "  PicoSismo[\"filename\"] = [base_name]\n"
     ]
    },
    {
     "name": "stdout",
     "output_type": "stream",
     "text": [
      "Leyendo archivo CSV: data/lunar/test/data/S15_GradeA/xa.s15.00.mhz.1974-10-19HR00_evid00157.csv\n",
      "Leyendo archivo mseed: data/lunar/test/data/S15_GradeA/xa.s15.00.mhz.1974-10-19HR00_evid00157.mseed\n",
      "Reducción de ruido por filtro high-pass, band-pass\n",
      "Finaliza reducción\n",
      "Ejecutando la transformada de hilbert\n",
      "Transformada de hilbert finalizada\n",
      "Iniciando detección de sismos\n",
      "Detección de sismos finalizada\n",
      "Exportando los valores del rango del sismo a una carpeta\n",
      "Archivo guardado en: output/data_rango_sismo/DataRangoSismo_S15_GradeA_xa.s15.00.mhz.1974-10-19HR00_evid00157.csv\n"
     ]
    },
    {
     "name": "stderr",
     "output_type": "stream",
     "text": [
      "/tmp/ipykernel_29378/844006441.py:107: SettingWithCopyWarning: \n",
      "A value is trying to be set on a copy of a slice from a DataFrame.\n",
      "Try using .loc[row_indexer,col_indexer] = value instead\n",
      "\n",
      "See the caveats in the documentation: https://pandas.pydata.org/pandas-docs/stable/user_guide/indexing.html#returning-a-view-versus-a-copy\n",
      "  PicoSismo[\"filename\"] = [base_name]\n"
     ]
    },
    {
     "name": "stdout",
     "output_type": "stream",
     "text": [
      "Leyendo archivo CSV: data/lunar/test/data/S15_GradeA/xa.s15.00.mhz.1975-06-22HR00_evid00194.csv\n",
      "Leyendo archivo mseed: data/lunar/test/data/S15_GradeA/xa.s15.00.mhz.1975-06-22HR00_evid00194.mseed\n",
      "Reducción de ruido por filtro high-pass, band-pass\n",
      "Finaliza reducción\n",
      "Ejecutando la transformada de hilbert\n",
      "Transformada de hilbert finalizada\n",
      "Iniciando detección de sismos\n",
      "Detección de sismos finalizada\n",
      "Exportando los valores del rango del sismo a una carpeta\n",
      "Archivo guardado en: output/data_rango_sismo/DataRangoSismo_S15_GradeA_xa.s15.00.mhz.1975-06-22HR00_evid00194.csv\n"
     ]
    },
    {
     "name": "stderr",
     "output_type": "stream",
     "text": [
      "/tmp/ipykernel_29378/844006441.py:107: SettingWithCopyWarning: \n",
      "A value is trying to be set on a copy of a slice from a DataFrame.\n",
      "Try using .loc[row_indexer,col_indexer] = value instead\n",
      "\n",
      "See the caveats in the documentation: https://pandas.pydata.org/pandas-docs/stable/user_guide/indexing.html#returning-a-view-versus-a-copy\n",
      "  PicoSismo[\"filename\"] = [base_name]\n"
     ]
    },
    {
     "name": "stdout",
     "output_type": "stream",
     "text": [
      "Leyendo archivo CSV: data/lunar/test/data/S15_GradeA/xa.s15.00.mhz.1974-12-15HR00_evid00170.csv\n",
      "Leyendo archivo mseed: data/lunar/test/data/S15_GradeA/xa.s15.00.mhz.1974-12-15HR00_evid00170.mseed\n",
      "Reducción de ruido por filtro high-pass, band-pass\n",
      "Finaliza reducción\n",
      "Ejecutando la transformada de hilbert\n",
      "Transformada de hilbert finalizada\n",
      "Iniciando detección de sismos\n",
      "Detección de sismos finalizada\n",
      "Exportando los valores del rango del sismo a una carpeta\n",
      "Archivo guardado en: output/data_rango_sismo/DataRangoSismo_S15_GradeA_xa.s15.00.mhz.1974-12-15HR00_evid00170.csv\n"
     ]
    },
    {
     "name": "stderr",
     "output_type": "stream",
     "text": [
      "/tmp/ipykernel_29378/844006441.py:107: SettingWithCopyWarning: \n",
      "A value is trying to be set on a copy of a slice from a DataFrame.\n",
      "Try using .loc[row_indexer,col_indexer] = value instead\n",
      "\n",
      "See the caveats in the documentation: https://pandas.pydata.org/pandas-docs/stable/user_guide/indexing.html#returning-a-view-versus-a-copy\n",
      "  PicoSismo[\"filename\"] = [base_name]\n"
     ]
    },
    {
     "name": "stdout",
     "output_type": "stream",
     "text": [
      "Leyendo archivo CSV: data/lunar/test/data/S15_GradeA/xa.s15.00.mhz.1974-12-15HR00_evid00169.csv\n",
      "Leyendo archivo mseed: data/lunar/test/data/S15_GradeA/xa.s15.00.mhz.1974-12-15HR00_evid00169.mseed\n",
      "Reducción de ruido por filtro high-pass, band-pass\n",
      "Finaliza reducción\n",
      "Ejecutando la transformada de hilbert\n",
      "Transformada de hilbert finalizada\n",
      "Iniciando detección de sismos\n",
      "Detección de sismos finalizada\n",
      "Exportando los valores del rango del sismo a una carpeta\n",
      "Archivo guardado en: output/data_rango_sismo/DataRangoSismo_S15_GradeA_xa.s15.00.mhz.1974-12-15HR00_evid00169.csv\n"
     ]
    },
    {
     "name": "stderr",
     "output_type": "stream",
     "text": [
      "/tmp/ipykernel_29378/844006441.py:107: SettingWithCopyWarning: \n",
      "A value is trying to be set on a copy of a slice from a DataFrame.\n",
      "Try using .loc[row_indexer,col_indexer] = value instead\n",
      "\n",
      "See the caveats in the documentation: https://pandas.pydata.org/pandas-docs/stable/user_guide/indexing.html#returning-a-view-versus-a-copy\n",
      "  PicoSismo[\"filename\"] = [base_name]\n"
     ]
    },
    {
     "name": "stdout",
     "output_type": "stream",
     "text": [
      "Leyendo archivo CSV: data/lunar/test/data/S15_GradeA/xa.s15.00.mhz.1973-08-10HR00_evid00126.csv\n",
      "Leyendo archivo mseed: data/lunar/test/data/S15_GradeA/xa.s15.00.mhz.1973-08-10HR00_evid00126.mseed\n",
      "Reducción de ruido por filtro high-pass, band-pass\n",
      "Finaliza reducción\n",
      "Ejecutando la transformada de hilbert\n",
      "Transformada de hilbert finalizada\n",
      "Iniciando detección de sismos\n",
      "Detección de sismos finalizada\n",
      "Exportando los valores del rango del sismo a una carpeta\n",
      "Archivo guardado en: output/data_rango_sismo/DataRangoSismo_S15_GradeA_xa.s15.00.mhz.1973-08-10HR00_evid00126.csv\n"
     ]
    },
    {
     "name": "stderr",
     "output_type": "stream",
     "text": [
      "/tmp/ipykernel_29378/844006441.py:107: SettingWithCopyWarning: \n",
      "A value is trying to be set on a copy of a slice from a DataFrame.\n",
      "Try using .loc[row_indexer,col_indexer] = value instead\n",
      "\n",
      "See the caveats in the documentation: https://pandas.pydata.org/pandas-docs/stable/user_guide/indexing.html#returning-a-view-versus-a-copy\n",
      "  PicoSismo[\"filename\"] = [base_name]\n"
     ]
    },
    {
     "name": "stdout",
     "output_type": "stream",
     "text": [
      "Leyendo archivo CSV: data/lunar/test/data/S12_GradeB/xa.s12.00.mhz.1974-07-25HR05_evid00553.csv\n",
      "Leyendo archivo mseed: data/lunar/test/data/S12_GradeB/xa.s12.00.mhz.1974-07-25HR05_evid00553.mseed\n",
      "Reducción de ruido por filtro high-pass, band-pass\n",
      "Finaliza reducción\n",
      "Ejecutando la transformada de hilbert\n",
      "Transformada de hilbert finalizada\n",
      "Iniciando detección de sismos\n",
      "Detección de sismos finalizada\n",
      "Exportando los valores del rango del sismo a una carpeta\n",
      "Archivo guardado en: output/data_rango_sismo/DataRangoSismo_S12_GradeB_xa.s12.00.mhz.1974-07-25HR05_evid00553.csv\n"
     ]
    },
    {
     "name": "stderr",
     "output_type": "stream",
     "text": [
      "/tmp/ipykernel_29378/844006441.py:107: SettingWithCopyWarning: \n",
      "A value is trying to be set on a copy of a slice from a DataFrame.\n",
      "Try using .loc[row_indexer,col_indexer] = value instead\n",
      "\n",
      "See the caveats in the documentation: https://pandas.pydata.org/pandas-docs/stable/user_guide/indexing.html#returning-a-view-versus-a-copy\n",
      "  PicoSismo[\"filename\"] = [base_name]\n"
     ]
    },
    {
     "name": "stdout",
     "output_type": "stream",
     "text": [
      "Leyendo archivo CSV: data/lunar/test/data/S12_GradeB/xa.s12.00.mhz.1975-05-16HR00_evid00651.csv\n",
      "Leyendo archivo mseed: data/lunar/test/data/S12_GradeB/xa.s12.00.mhz.1975-05-16HR00_evid00651.mseed\n",
      "Reducción de ruido por filtro high-pass, band-pass\n",
      "Finaliza reducción\n",
      "Ejecutando la transformada de hilbert\n",
      "Transformada de hilbert finalizada\n",
      "Iniciando detección de sismos\n",
      "Detección de sismos finalizada\n",
      "Exportando los valores del rango del sismo a una carpeta\n",
      "Archivo guardado en: output/data_rango_sismo/DataRangoSismo_S12_GradeB_xa.s12.00.mhz.1975-05-16HR00_evid00651.csv\n"
     ]
    },
    {
     "name": "stderr",
     "output_type": "stream",
     "text": [
      "/tmp/ipykernel_29378/844006441.py:107: SettingWithCopyWarning: \n",
      "A value is trying to be set on a copy of a slice from a DataFrame.\n",
      "Try using .loc[row_indexer,col_indexer] = value instead\n",
      "\n",
      "See the caveats in the documentation: https://pandas.pydata.org/pandas-docs/stable/user_guide/indexing.html#returning-a-view-versus-a-copy\n",
      "  PicoSismo[\"filename\"] = [base_name]\n"
     ]
    },
    {
     "name": "stdout",
     "output_type": "stream",
     "text": [
      "Leyendo archivo CSV: data/lunar/test/data/S12_GradeB/xa.s12.00.mhz.1970-06-19HR00_evid00031.csv\n",
      "Leyendo archivo mseed: data/lunar/test/data/S12_GradeB/xa.s12.00.mhz.1970-06-19HR00_evid00031.mseed\n",
      "Reducción de ruido por filtro high-pass, band-pass\n",
      "Finaliza reducción\n",
      "Ejecutando la transformada de hilbert\n",
      "Transformada de hilbert finalizada\n",
      "Iniciando detección de sismos\n",
      "Detección de sismos finalizada\n",
      "Exportando los valores del rango del sismo a una carpeta\n",
      "Archivo guardado en: output/data_rango_sismo/DataRangoSismo_S12_GradeB_xa.s12.00.mhz.1970-06-19HR00_evid00031.csv\n"
     ]
    },
    {
     "name": "stderr",
     "output_type": "stream",
     "text": [
      "/tmp/ipykernel_29378/844006441.py:107: SettingWithCopyWarning: \n",
      "A value is trying to be set on a copy of a slice from a DataFrame.\n",
      "Try using .loc[row_indexer,col_indexer] = value instead\n",
      "\n",
      "See the caveats in the documentation: https://pandas.pydata.org/pandas-docs/stable/user_guide/indexing.html#returning-a-view-versus-a-copy\n",
      "  PicoSismo[\"filename\"] = [base_name]\n"
     ]
    },
    {
     "name": "stdout",
     "output_type": "stream",
     "text": [
      "Leyendo archivo CSV: data/lunar/test/data/S12_GradeB/xa.s12.00.mhz.1975-06-17HR00_evid00662.csv\n",
      "Leyendo archivo mseed: data/lunar/test/data/S12_GradeB/xa.s12.00.mhz.1975-06-17HR00_evid00662.mseed\n",
      "Reducción de ruido por filtro high-pass, band-pass\n",
      "Finaliza reducción\n",
      "Ejecutando la transformada de hilbert\n",
      "Transformada de hilbert finalizada\n",
      "Iniciando detección de sismos\n",
      "Detección de sismos finalizada\n",
      "Exportando los valores del rango del sismo a una carpeta\n",
      "Archivo guardado en: output/data_rango_sismo/DataRangoSismo_S12_GradeB_xa.s12.00.mhz.1975-06-17HR00_evid00662.csv\n"
     ]
    },
    {
     "name": "stderr",
     "output_type": "stream",
     "text": [
      "/tmp/ipykernel_29378/844006441.py:107: SettingWithCopyWarning: \n",
      "A value is trying to be set on a copy of a slice from a DataFrame.\n",
      "Try using .loc[row_indexer,col_indexer] = value instead\n",
      "\n",
      "See the caveats in the documentation: https://pandas.pydata.org/pandas-docs/stable/user_guide/indexing.html#returning-a-view-versus-a-copy\n",
      "  PicoSismo[\"filename\"] = [base_name]\n"
     ]
    },
    {
     "name": "stdout",
     "output_type": "stream",
     "text": [
      "Leyendo archivo CSV: data/lunar/test/data/S12_GradeB/xa.s12.00.mhz.1971-06-11HR00_evid00096.csv\n",
      "Leyendo archivo mseed: data/lunar/test/data/S12_GradeB/xa.s12.00.mhz.1971-06-11HR00_evid00096.mseed\n",
      "Reducción de ruido por filtro high-pass, band-pass\n",
      "Finaliza reducción\n",
      "Ejecutando la transformada de hilbert\n",
      "Transformada de hilbert finalizada\n",
      "Iniciando detección de sismos\n",
      "Detección de sismos finalizada\n",
      "Exportando los valores del rango del sismo a una carpeta\n",
      "Archivo guardado en: output/data_rango_sismo/DataRangoSismo_S12_GradeB_xa.s12.00.mhz.1971-06-11HR00_evid00096.csv\n"
     ]
    },
    {
     "name": "stderr",
     "output_type": "stream",
     "text": [
      "/tmp/ipykernel_29378/844006441.py:107: SettingWithCopyWarning: \n",
      "A value is trying to be set on a copy of a slice from a DataFrame.\n",
      "Try using .loc[row_indexer,col_indexer] = value instead\n",
      "\n",
      "See the caveats in the documentation: https://pandas.pydata.org/pandas-docs/stable/user_guide/indexing.html#returning-a-view-versus-a-copy\n",
      "  PicoSismo[\"filename\"] = [base_name]\n"
     ]
    },
    {
     "name": "stdout",
     "output_type": "stream",
     "text": [
      "Leyendo archivo CSV: data/lunar/test/data/S12_GradeB/xa.s12.00.mhz.1973-03-12HR00_evid00384.csv\n",
      "Leyendo archivo mseed: data/lunar/test/data/S12_GradeB/xa.s12.00.mhz.1973-03-12HR00_evid00384.mseed\n",
      "Reducción de ruido por filtro high-pass, band-pass\n",
      "Finaliza reducción\n",
      "Ejecutando la transformada de hilbert\n",
      "Transformada de hilbert finalizada\n",
      "Iniciando detección de sismos\n",
      "Detección de sismos finalizada\n",
      "Exportando los valores del rango del sismo a una carpeta\n",
      "Archivo guardado en: output/data_rango_sismo/DataRangoSismo_S12_GradeB_xa.s12.00.mhz.1973-03-12HR00_evid00384.csv\n"
     ]
    },
    {
     "name": "stderr",
     "output_type": "stream",
     "text": [
      "/tmp/ipykernel_29378/844006441.py:107: SettingWithCopyWarning: \n",
      "A value is trying to be set on a copy of a slice from a DataFrame.\n",
      "Try using .loc[row_indexer,col_indexer] = value instead\n",
      "\n",
      "See the caveats in the documentation: https://pandas.pydata.org/pandas-docs/stable/user_guide/indexing.html#returning-a-view-versus-a-copy\n",
      "  PicoSismo[\"filename\"] = [base_name]\n"
     ]
    },
    {
     "name": "stdout",
     "output_type": "stream",
     "text": [
      "Leyendo archivo CSV: data/lunar/test/data/S12_GradeB/xa.s12.00.mhz.1972-02-28HR00_evid00192.csv\n",
      "Leyendo archivo mseed: data/lunar/test/data/S12_GradeB/xa.s12.00.mhz.1972-02-28HR00_evid00192.mseed\n",
      "Reducción de ruido por filtro high-pass, band-pass\n",
      "Finaliza reducción\n",
      "Ejecutando la transformada de hilbert\n",
      "Transformada de hilbert finalizada\n",
      "Iniciando detección de sismos\n",
      "Detección de sismos finalizada\n",
      "Exportando los valores del rango del sismo a una carpeta\n",
      "Archivo guardado en: output/data_rango_sismo/DataRangoSismo_S12_GradeB_xa.s12.00.mhz.1972-02-28HR00_evid00192.csv\n"
     ]
    },
    {
     "name": "stderr",
     "output_type": "stream",
     "text": [
      "/tmp/ipykernel_29378/844006441.py:107: SettingWithCopyWarning: \n",
      "A value is trying to be set on a copy of a slice from a DataFrame.\n",
      "Try using .loc[row_indexer,col_indexer] = value instead\n",
      "\n",
      "See the caveats in the documentation: https://pandas.pydata.org/pandas-docs/stable/user_guide/indexing.html#returning-a-view-versus-a-copy\n",
      "  PicoSismo[\"filename\"] = [base_name]\n"
     ]
    },
    {
     "name": "stdout",
     "output_type": "stream",
     "text": [
      "Leyendo archivo CSV: data/lunar/test/data/S12_GradeB/xa.s12.00.mhz.1973-04-23HR00_evid00399.csv\n",
      "Leyendo archivo mseed: data/lunar/test/data/S12_GradeB/xa.s12.00.mhz.1973-04-23HR00_evid00399.mseed\n",
      "Reducción de ruido por filtro high-pass, band-pass\n",
      "Finaliza reducción\n",
      "Ejecutando la transformada de hilbert\n",
      "Transformada de hilbert finalizada\n",
      "Iniciando detección de sismos\n",
      "Detección de sismos finalizada\n",
      "Exportando los valores del rango del sismo a una carpeta\n",
      "Archivo guardado en: output/data_rango_sismo/DataRangoSismo_S12_GradeB_xa.s12.00.mhz.1973-04-23HR00_evid00399.csv\n"
     ]
    },
    {
     "name": "stderr",
     "output_type": "stream",
     "text": [
      "/tmp/ipykernel_29378/844006441.py:107: SettingWithCopyWarning: \n",
      "A value is trying to be set on a copy of a slice from a DataFrame.\n",
      "Try using .loc[row_indexer,col_indexer] = value instead\n",
      "\n",
      "See the caveats in the documentation: https://pandas.pydata.org/pandas-docs/stable/user_guide/indexing.html#returning-a-view-versus-a-copy\n",
      "  PicoSismo[\"filename\"] = [base_name]\n"
     ]
    },
    {
     "name": "stdout",
     "output_type": "stream",
     "text": [
      "Leyendo archivo CSV: data/lunar/test/data/S12_GradeB/xa.s12.00.mhz.1975-06-15HR00_evid00660.csv\n",
      "Leyendo archivo mseed: data/lunar/test/data/S12_GradeB/xa.s12.00.mhz.1975-06-15HR00_evid00660.mseed\n",
      "Reducción de ruido por filtro high-pass, band-pass\n",
      "Finaliza reducción\n",
      "Ejecutando la transformada de hilbert\n",
      "Transformada de hilbert finalizada\n",
      "Iniciando detección de sismos\n",
      "Detección de sismos finalizada\n",
      "Exportando los valores del rango del sismo a una carpeta\n",
      "Archivo guardado en: output/data_rango_sismo/DataRangoSismo_S12_GradeB_xa.s12.00.mhz.1975-06-15HR00_evid00660.csv\n"
     ]
    },
    {
     "name": "stderr",
     "output_type": "stream",
     "text": [
      "/tmp/ipykernel_29378/844006441.py:107: SettingWithCopyWarning: \n",
      "A value is trying to be set on a copy of a slice from a DataFrame.\n",
      "Try using .loc[row_indexer,col_indexer] = value instead\n",
      "\n",
      "See the caveats in the documentation: https://pandas.pydata.org/pandas-docs/stable/user_guide/indexing.html#returning-a-view-versus-a-copy\n",
      "  PicoSismo[\"filename\"] = [base_name]\n"
     ]
    },
    {
     "name": "stdout",
     "output_type": "stream",
     "text": [
      "Leyendo archivo CSV: data/lunar/test/data/S12_GradeB/xa.s12.00.mhz.1970-04-03HR00_evid00021.csv\n",
      "Leyendo archivo mseed: data/lunar/test/data/S12_GradeB/xa.s12.00.mhz.1970-04-03HR00_evid00021.mseed\n",
      "Reducción de ruido por filtro high-pass, band-pass\n",
      "Finaliza reducción\n",
      "Ejecutando la transformada de hilbert\n",
      "Transformada de hilbert finalizada\n",
      "Iniciando detección de sismos\n",
      "Detección de sismos finalizada\n",
      "Exportando los valores del rango del sismo a una carpeta\n",
      "Archivo guardado en: output/data_rango_sismo/DataRangoSismo_S12_GradeB_xa.s12.00.mhz.1970-04-03HR00_evid00021.csv\n"
     ]
    },
    {
     "name": "stderr",
     "output_type": "stream",
     "text": [
      "/tmp/ipykernel_29378/844006441.py:107: SettingWithCopyWarning: \n",
      "A value is trying to be set on a copy of a slice from a DataFrame.\n",
      "Try using .loc[row_indexer,col_indexer] = value instead\n",
      "\n",
      "See the caveats in the documentation: https://pandas.pydata.org/pandas-docs/stable/user_guide/indexing.html#returning-a-view-versus-a-copy\n",
      "  PicoSismo[\"filename\"] = [base_name]\n"
     ]
    },
    {
     "name": "stdout",
     "output_type": "stream",
     "text": [
      "Leyendo archivo CSV: data/lunar/test/data/S12_GradeB/xa.s12.00.mhz.1974-05-09HR00_evid00522.csv\n",
      "Leyendo archivo mseed: data/lunar/test/data/S12_GradeB/xa.s12.00.mhz.1974-05-09HR00_evid00522.mseed\n",
      "Reducción de ruido por filtro high-pass, band-pass\n",
      "Finaliza reducción\n",
      "Ejecutando la transformada de hilbert\n",
      "Transformada de hilbert finalizada\n",
      "Iniciando detección de sismos\n",
      "Detección de sismos finalizada\n",
      "Exportando los valores del rango del sismo a una carpeta\n",
      "Archivo guardado en: output/data_rango_sismo/DataRangoSismo_S12_GradeB_xa.s12.00.mhz.1974-05-09HR00_evid00522.csv\n"
     ]
    },
    {
     "name": "stderr",
     "output_type": "stream",
     "text": [
      "/tmp/ipykernel_29378/844006441.py:107: SettingWithCopyWarning: \n",
      "A value is trying to be set on a copy of a slice from a DataFrame.\n",
      "Try using .loc[row_indexer,col_indexer] = value instead\n",
      "\n",
      "See the caveats in the documentation: https://pandas.pydata.org/pandas-docs/stable/user_guide/indexing.html#returning-a-view-versus-a-copy\n",
      "  PicoSismo[\"filename\"] = [base_name]\n"
     ]
    },
    {
     "name": "stdout",
     "output_type": "stream",
     "text": [
      "Leyendo archivo CSV: data/lunar/test/data/S12_GradeB/xa.s12.00.mhz.1971-03-15HR00_evid00073.csv\n",
      "Leyendo archivo mseed: data/lunar/test/data/S12_GradeB/xa.s12.00.mhz.1971-03-15HR00_evid00073.mseed\n",
      "Reducción de ruido por filtro high-pass, band-pass\n",
      "Finaliza reducción\n",
      "Ejecutando la transformada de hilbert\n",
      "Transformada de hilbert finalizada\n",
      "Iniciando detección de sismos\n",
      "Detección de sismos finalizada\n",
      "Exportando los valores del rango del sismo a una carpeta\n",
      "Archivo guardado en: output/data_rango_sismo/DataRangoSismo_S12_GradeB_xa.s12.00.mhz.1971-03-15HR00_evid00073.csv\n"
     ]
    },
    {
     "name": "stderr",
     "output_type": "stream",
     "text": [
      "/tmp/ipykernel_29378/844006441.py:107: SettingWithCopyWarning: \n",
      "A value is trying to be set on a copy of a slice from a DataFrame.\n",
      "Try using .loc[row_indexer,col_indexer] = value instead\n",
      "\n",
      "See the caveats in the documentation: https://pandas.pydata.org/pandas-docs/stable/user_guide/indexing.html#returning-a-view-versus-a-copy\n",
      "  PicoSismo[\"filename\"] = [base_name]\n"
     ]
    },
    {
     "name": "stdout",
     "output_type": "stream",
     "text": [
      "Leyendo archivo CSV: data/lunar/test/data/S12_GradeB/xa.s12.00.mhz.1971-01-17HR00_evid00060.csv\n",
      "Leyendo archivo mseed: data/lunar/test/data/S12_GradeB/xa.s12.00.mhz.1971-01-17HR00_evid00060.mseed\n",
      "Reducción de ruido por filtro high-pass, band-pass\n",
      "Finaliza reducción\n",
      "Ejecutando la transformada de hilbert\n",
      "Transformada de hilbert finalizada\n",
      "Iniciando detección de sismos\n",
      "Detección de sismos finalizada\n",
      "Exportando los valores del rango del sismo a una carpeta\n",
      "Archivo guardado en: output/data_rango_sismo/DataRangoSismo_S12_GradeB_xa.s12.00.mhz.1971-01-17HR00_evid00060.csv\n"
     ]
    },
    {
     "name": "stderr",
     "output_type": "stream",
     "text": [
      "/tmp/ipykernel_29378/844006441.py:107: SettingWithCopyWarning: \n",
      "A value is trying to be set on a copy of a slice from a DataFrame.\n",
      "Try using .loc[row_indexer,col_indexer] = value instead\n",
      "\n",
      "See the caveats in the documentation: https://pandas.pydata.org/pandas-docs/stable/user_guide/indexing.html#returning-a-view-versus-a-copy\n",
      "  PicoSismo[\"filename\"] = [base_name]\n"
     ]
    },
    {
     "name": "stdout",
     "output_type": "stream",
     "text": [
      "Leyendo archivo CSV: data/lunar/test/data/S12_GradeB/xa.s12.00.mhz.1970-02-18HR00_evid00016.csv\n",
      "Leyendo archivo mseed: data/lunar/test/data/S12_GradeB/xa.s12.00.mhz.1970-02-18HR00_evid00016.mseed\n",
      "Reducción de ruido por filtro high-pass, band-pass\n",
      "Finaliza reducción\n",
      "Ejecutando la transformada de hilbert\n",
      "Transformada de hilbert finalizada\n",
      "Iniciando detección de sismos\n",
      "Detección de sismos finalizada\n",
      "Exportando los valores del rango del sismo a una carpeta\n",
      "Archivo guardado en: output/data_rango_sismo/DataRangoSismo_S12_GradeB_xa.s12.00.mhz.1970-02-18HR00_evid00016.csv\n"
     ]
    },
    {
     "name": "stderr",
     "output_type": "stream",
     "text": [
      "/tmp/ipykernel_29378/844006441.py:107: SettingWithCopyWarning: \n",
      "A value is trying to be set on a copy of a slice from a DataFrame.\n",
      "Try using .loc[row_indexer,col_indexer] = value instead\n",
      "\n",
      "See the caveats in the documentation: https://pandas.pydata.org/pandas-docs/stable/user_guide/indexing.html#returning-a-view-versus-a-copy\n",
      "  PicoSismo[\"filename\"] = [base_name]\n"
     ]
    },
    {
     "name": "stdout",
     "output_type": "stream",
     "text": [
      "Leyendo archivo CSV: data/lunar/test/data/S12_GradeB/xa.s12.00.mhz.1973-08-08HR00_evid00437.csv\n",
      "Leyendo archivo mseed: data/lunar/test/data/S12_GradeB/xa.s12.00.mhz.1973-08-08HR00_evid00437.mseed\n",
      "Reducción de ruido por filtro high-pass, band-pass\n",
      "Finaliza reducción\n",
      "Ejecutando la transformada de hilbert\n",
      "Transformada de hilbert finalizada\n",
      "Iniciando detección de sismos\n",
      "Detección de sismos finalizada\n",
      "Exportando los valores del rango del sismo a una carpeta\n",
      "Archivo guardado en: output/data_rango_sismo/DataRangoSismo_S12_GradeB_xa.s12.00.mhz.1973-08-08HR00_evid00437.csv\n"
     ]
    },
    {
     "name": "stderr",
     "output_type": "stream",
     "text": [
      "/tmp/ipykernel_29378/844006441.py:107: SettingWithCopyWarning: \n",
      "A value is trying to be set on a copy of a slice from a DataFrame.\n",
      "Try using .loc[row_indexer,col_indexer] = value instead\n",
      "\n",
      "See the caveats in the documentation: https://pandas.pydata.org/pandas-docs/stable/user_guide/indexing.html#returning-a-view-versus-a-copy\n",
      "  PicoSismo[\"filename\"] = [base_name]\n"
     ]
    },
    {
     "name": "stdout",
     "output_type": "stream",
     "text": [
      "Leyendo archivo CSV: data/lunar/test/data/S12_GradeB/xa.s12.00.mhz.1977-04-24HR00_evid00923.csv\n",
      "Leyendo archivo mseed: data/lunar/test/data/S12_GradeB/xa.s12.00.mhz.1977-04-24HR00_evid00923.mseed\n",
      "Reducción de ruido por filtro high-pass, band-pass\n",
      "Finaliza reducción\n",
      "Ejecutando la transformada de hilbert\n",
      "Transformada de hilbert finalizada\n",
      "Iniciando detección de sismos\n",
      "Detección de sismos finalizada\n",
      "Exportando los valores del rango del sismo a una carpeta\n",
      "Archivo guardado en: output/data_rango_sismo/DataRangoSismo_S12_GradeB_xa.s12.00.mhz.1977-04-24HR00_evid00923.csv\n"
     ]
    },
    {
     "name": "stderr",
     "output_type": "stream",
     "text": [
      "/tmp/ipykernel_29378/844006441.py:107: SettingWithCopyWarning: \n",
      "A value is trying to be set on a copy of a slice from a DataFrame.\n",
      "Try using .loc[row_indexer,col_indexer] = value instead\n",
      "\n",
      "See the caveats in the documentation: https://pandas.pydata.org/pandas-docs/stable/user_guide/indexing.html#returning-a-view-versus-a-copy\n",
      "  PicoSismo[\"filename\"] = [base_name]\n"
     ]
    },
    {
     "name": "stdout",
     "output_type": "stream",
     "text": [
      "Leyendo archivo CSV: data/lunar/test/data/S12_GradeB/xa.s12.00.mhz.1971-04-08HR01_evid00083.csv\n",
      "Leyendo archivo mseed: data/lunar/test/data/S12_GradeB/xa.s12.00.mhz.1971-04-08HR01_evid00083.mseed\n",
      "Reducción de ruido por filtro high-pass, band-pass\n",
      "Finaliza reducción\n",
      "Ejecutando la transformada de hilbert\n",
      "Transformada de hilbert finalizada\n",
      "Iniciando detección de sismos\n",
      "Detección de sismos finalizada\n",
      "Exportando los valores del rango del sismo a una carpeta\n",
      "Archivo guardado en: output/data_rango_sismo/DataRangoSismo_S12_GradeB_xa.s12.00.mhz.1971-04-08HR01_evid00083.csv\n"
     ]
    },
    {
     "name": "stderr",
     "output_type": "stream",
     "text": [
      "/tmp/ipykernel_29378/844006441.py:107: SettingWithCopyWarning: \n",
      "A value is trying to be set on a copy of a slice from a DataFrame.\n",
      "Try using .loc[row_indexer,col_indexer] = value instead\n",
      "\n",
      "See the caveats in the documentation: https://pandas.pydata.org/pandas-docs/stable/user_guide/indexing.html#returning-a-view-versus-a-copy\n",
      "  PicoSismo[\"filename\"] = [base_name]\n"
     ]
    },
    {
     "name": "stdout",
     "output_type": "stream",
     "text": [
      "Leyendo archivo CSV: data/lunar/test/data/S12_GradeB/xa.s12.00.mhz.1970-07-18HR00_evid00036.csv\n",
      "Leyendo archivo mseed: data/lunar/test/data/S12_GradeB/xa.s12.00.mhz.1970-07-18HR00_evid00036.mseed\n",
      "Reducción de ruido por filtro high-pass, band-pass\n",
      "Finaliza reducción\n",
      "Ejecutando la transformada de hilbert\n",
      "Transformada de hilbert finalizada\n",
      "Iniciando detección de sismos\n",
      "Detección de sismos finalizada\n",
      "Exportando los valores del rango del sismo a una carpeta\n",
      "Archivo guardado en: output/data_rango_sismo/DataRangoSismo_S12_GradeB_xa.s12.00.mhz.1970-07-18HR00_evid00036.csv\n"
     ]
    },
    {
     "name": "stderr",
     "output_type": "stream",
     "text": [
      "/tmp/ipykernel_29378/844006441.py:107: SettingWithCopyWarning: \n",
      "A value is trying to be set on a copy of a slice from a DataFrame.\n",
      "Try using .loc[row_indexer,col_indexer] = value instead\n",
      "\n",
      "See the caveats in the documentation: https://pandas.pydata.org/pandas-docs/stable/user_guide/indexing.html#returning-a-view-versus-a-copy\n",
      "  PicoSismo[\"filename\"] = [base_name]\n"
     ]
    },
    {
     "name": "stdout",
     "output_type": "stream",
     "text": [
      "Leyendo archivo CSV: data/lunar/test/data/S12_GradeB/xa.s12.00.mhz.1970-05-20HR00_evid00026.csv\n",
      "Leyendo archivo mseed: data/lunar/test/data/S12_GradeB/xa.s12.00.mhz.1970-05-20HR00_evid00026.mseed\n",
      "Reducción de ruido por filtro high-pass, band-pass\n",
      "Finaliza reducción\n",
      "Ejecutando la transformada de hilbert\n",
      "Transformada de hilbert finalizada\n",
      "Iniciando detección de sismos\n",
      "Detección de sismos finalizada\n",
      "Exportando los valores del rango del sismo a una carpeta\n",
      "Archivo guardado en: output/data_rango_sismo/DataRangoSismo_S12_GradeB_xa.s12.00.mhz.1970-05-20HR00_evid00026.csv\n"
     ]
    },
    {
     "name": "stderr",
     "output_type": "stream",
     "text": [
      "/tmp/ipykernel_29378/844006441.py:107: SettingWithCopyWarning: \n",
      "A value is trying to be set on a copy of a slice from a DataFrame.\n",
      "Try using .loc[row_indexer,col_indexer] = value instead\n",
      "\n",
      "See the caveats in the documentation: https://pandas.pydata.org/pandas-docs/stable/user_guide/indexing.html#returning-a-view-versus-a-copy\n",
      "  PicoSismo[\"filename\"] = [base_name]\n"
     ]
    },
    {
     "name": "stdout",
     "output_type": "stream",
     "text": [
      "Leyendo archivo CSV: data/lunar/test/data/S12_GradeB/xa.s12.00.mhz.1977-04-11HR00_evid00915.csv\n",
      "Leyendo archivo mseed: data/lunar/test/data/S12_GradeB/xa.s12.00.mhz.1977-04-11HR00_evid00915.mseed\n",
      "Reducción de ruido por filtro high-pass, band-pass\n",
      "Finaliza reducción\n",
      "Ejecutando la transformada de hilbert\n",
      "Transformada de hilbert finalizada\n",
      "Iniciando detección de sismos\n",
      "Detección de sismos finalizada\n",
      "Exportando los valores del rango del sismo a una carpeta\n",
      "Archivo guardado en: output/data_rango_sismo/DataRangoSismo_S12_GradeB_xa.s12.00.mhz.1977-04-11HR00_evid00915.csv\n"
     ]
    },
    {
     "name": "stderr",
     "output_type": "stream",
     "text": [
      "/tmp/ipykernel_29378/844006441.py:107: SettingWithCopyWarning: \n",
      "A value is trying to be set on a copy of a slice from a DataFrame.\n",
      "Try using .loc[row_indexer,col_indexer] = value instead\n",
      "\n",
      "See the caveats in the documentation: https://pandas.pydata.org/pandas-docs/stable/user_guide/indexing.html#returning-a-view-versus-a-copy\n",
      "  PicoSismo[\"filename\"] = [base_name]\n"
     ]
    },
    {
     "name": "stdout",
     "output_type": "stream",
     "text": [
      "Leyendo archivo CSV: data/lunar/test/data/S12_GradeB/xa.s12.00.mhz.1971-10-26HR00_evid00133.csv\n",
      "Leyendo archivo mseed: data/lunar/test/data/S12_GradeB/xa.s12.00.mhz.1971-10-26HR00_evid00133.mseed\n",
      "Reducción de ruido por filtro high-pass, band-pass\n",
      "Finaliza reducción\n",
      "Ejecutando la transformada de hilbert\n",
      "Transformada de hilbert finalizada\n",
      "Iniciando detección de sismos\n",
      "Detección de sismos finalizada\n",
      "Exportando los valores del rango del sismo a una carpeta\n",
      "Archivo guardado en: output/data_rango_sismo/DataRangoSismo_S12_GradeB_xa.s12.00.mhz.1971-10-26HR00_evid00133.csv\n"
     ]
    },
    {
     "name": "stderr",
     "output_type": "stream",
     "text": [
      "/tmp/ipykernel_29378/844006441.py:107: SettingWithCopyWarning: \n",
      "A value is trying to be set on a copy of a slice from a DataFrame.\n",
      "Try using .loc[row_indexer,col_indexer] = value instead\n",
      "\n",
      "See the caveats in the documentation: https://pandas.pydata.org/pandas-docs/stable/user_guide/indexing.html#returning-a-view-versus-a-copy\n",
      "  PicoSismo[\"filename\"] = [base_name]\n"
     ]
    },
    {
     "name": "stdout",
     "output_type": "stream",
     "text": [
      "Leyendo archivo CSV: data/lunar/test/data/S12_GradeB/xa.s12.00.mhz.1971-01-05HR00_evid00059.csv\n",
      "Leyendo archivo mseed: data/lunar/test/data/S12_GradeB/xa.s12.00.mhz.1971-01-05HR00_evid00059.mseed\n",
      "Reducción de ruido por filtro high-pass, band-pass\n",
      "Finaliza reducción\n",
      "Ejecutando la transformada de hilbert\n",
      "Transformada de hilbert finalizada\n",
      "Iniciando detección de sismos\n",
      "Detección de sismos finalizada\n",
      "Exportando los valores del rango del sismo a una carpeta\n",
      "Archivo guardado en: output/data_rango_sismo/DataRangoSismo_S12_GradeB_xa.s12.00.mhz.1971-01-05HR00_evid00059.csv\n"
     ]
    },
    {
     "name": "stderr",
     "output_type": "stream",
     "text": [
      "/tmp/ipykernel_29378/844006441.py:107: SettingWithCopyWarning: \n",
      "A value is trying to be set on a copy of a slice from a DataFrame.\n",
      "Try using .loc[row_indexer,col_indexer] = value instead\n",
      "\n",
      "See the caveats in the documentation: https://pandas.pydata.org/pandas-docs/stable/user_guide/indexing.html#returning-a-view-versus-a-copy\n",
      "  PicoSismo[\"filename\"] = [base_name]\n"
     ]
    },
    {
     "name": "stdout",
     "output_type": "stream",
     "text": [
      "Leyendo archivo CSV: data/lunar/test/data/S12_GradeB/xa.s12.00.mhz.1972-11-14HR00_evid00331.csv\n",
      "Leyendo archivo mseed: data/lunar/test/data/S12_GradeB/xa.s12.00.mhz.1972-11-14HR00_evid00331.mseed\n",
      "Reducción de ruido por filtro high-pass, band-pass\n",
      "Finaliza reducción\n",
      "Ejecutando la transformada de hilbert\n",
      "Transformada de hilbert finalizada\n",
      "Iniciando detección de sismos\n",
      "Detección de sismos finalizada\n",
      "Exportando los valores del rango del sismo a una carpeta\n",
      "Archivo guardado en: output/data_rango_sismo/DataRangoSismo_S12_GradeB_xa.s12.00.mhz.1972-11-14HR00_evid00331.csv\n"
     ]
    },
    {
     "name": "stderr",
     "output_type": "stream",
     "text": [
      "/tmp/ipykernel_29378/844006441.py:107: SettingWithCopyWarning: \n",
      "A value is trying to be set on a copy of a slice from a DataFrame.\n",
      "Try using .loc[row_indexer,col_indexer] = value instead\n",
      "\n",
      "See the caveats in the documentation: https://pandas.pydata.org/pandas-docs/stable/user_guide/indexing.html#returning-a-view-versus-a-copy\n",
      "  PicoSismo[\"filename\"] = [base_name]\n"
     ]
    },
    {
     "name": "stdout",
     "output_type": "stream",
     "text": [
      "Leyendo archivo CSV: data/lunar/test/data/S12_GradeB/xa.s12.00.mhz.1971-01-03HR00_evid00057.csv\n",
      "Leyendo archivo mseed: data/lunar/test/data/S12_GradeB/xa.s12.00.mhz.1971-01-03HR00_evid00057.mseed\n",
      "Reducción de ruido por filtro high-pass, band-pass\n",
      "Finaliza reducción\n",
      "Ejecutando la transformada de hilbert\n",
      "Transformada de hilbert finalizada\n",
      "Iniciando detección de sismos\n",
      "Detección de sismos finalizada\n",
      "Exportando los valores del rango del sismo a una carpeta\n",
      "Archivo guardado en: output/data_rango_sismo/DataRangoSismo_S12_GradeB_xa.s12.00.mhz.1971-01-03HR00_evid00057.csv\n"
     ]
    },
    {
     "name": "stderr",
     "output_type": "stream",
     "text": [
      "/tmp/ipykernel_29378/844006441.py:107: SettingWithCopyWarning: \n",
      "A value is trying to be set on a copy of a slice from a DataFrame.\n",
      "Try using .loc[row_indexer,col_indexer] = value instead\n",
      "\n",
      "See the caveats in the documentation: https://pandas.pydata.org/pandas-docs/stable/user_guide/indexing.html#returning-a-view-versus-a-copy\n",
      "  PicoSismo[\"filename\"] = [base_name]\n"
     ]
    },
    {
     "name": "stdout",
     "output_type": "stream",
     "text": [
      "Leyendo archivo CSV: data/lunar/test/data/S12_GradeB/xa.s12.00.mhz.1970-05-23HR00_evid00027.csv\n",
      "Leyendo archivo mseed: data/lunar/test/data/S12_GradeB/xa.s12.00.mhz.1970-05-23HR00_evid00027.mseed\n",
      "Reducción de ruido por filtro high-pass, band-pass\n",
      "Finaliza reducción\n",
      "Ejecutando la transformada de hilbert\n",
      "Transformada de hilbert finalizada\n",
      "Iniciando detección de sismos\n",
      "Detección de sismos finalizada\n",
      "Exportando los valores del rango del sismo a una carpeta\n",
      "Archivo guardado en: output/data_rango_sismo/DataRangoSismo_S12_GradeB_xa.s12.00.mhz.1970-05-23HR00_evid00027.csv\n"
     ]
    },
    {
     "name": "stderr",
     "output_type": "stream",
     "text": [
      "/tmp/ipykernel_29378/844006441.py:107: SettingWithCopyWarning: \n",
      "A value is trying to be set on a copy of a slice from a DataFrame.\n",
      "Try using .loc[row_indexer,col_indexer] = value instead\n",
      "\n",
      "See the caveats in the documentation: https://pandas.pydata.org/pandas-docs/stable/user_guide/indexing.html#returning-a-view-versus-a-copy\n",
      "  PicoSismo[\"filename\"] = [base_name]\n"
     ]
    },
    {
     "name": "stdout",
     "output_type": "stream",
     "text": [
      "Leyendo archivo CSV: data/lunar/test/data/S12_GradeB/xa.s12.00.mhz.1972-05-15HR00_evid00223.csv\n",
      "Leyendo archivo mseed: data/lunar/test/data/S12_GradeB/xa.s12.00.mhz.1972-05-15HR00_evid00223.mseed\n",
      "Reducción de ruido por filtro high-pass, band-pass\n",
      "Finaliza reducción\n",
      "Ejecutando la transformada de hilbert\n",
      "Transformada de hilbert finalizada\n",
      "Iniciando detección de sismos\n",
      "Detección de sismos finalizada\n",
      "Exportando los valores del rango del sismo a una carpeta\n",
      "Archivo guardado en: output/data_rango_sismo/DataRangoSismo_S12_GradeB_xa.s12.00.mhz.1972-05-15HR00_evid00223.csv\n"
     ]
    },
    {
     "name": "stderr",
     "output_type": "stream",
     "text": [
      "/tmp/ipykernel_29378/844006441.py:107: SettingWithCopyWarning: \n",
      "A value is trying to be set on a copy of a slice from a DataFrame.\n",
      "Try using .loc[row_indexer,col_indexer] = value instead\n",
      "\n",
      "See the caveats in the documentation: https://pandas.pydata.org/pandas-docs/stable/user_guide/indexing.html#returning-a-view-versus-a-copy\n",
      "  PicoSismo[\"filename\"] = [base_name]\n"
     ]
    },
    {
     "name": "stdout",
     "output_type": "stream",
     "text": [
      "Leyendo archivo CSV: data/lunar/test/data/S12_GradeB/xa.s12.00.mhz.1972-12-02HR00_evid00341.csv\n",
      "Leyendo archivo mseed: data/lunar/test/data/S12_GradeB/xa.s12.00.mhz.1972-12-02HR00_evid00341.mseed\n",
      "Reducción de ruido por filtro high-pass, band-pass\n",
      "Finaliza reducción\n",
      "Ejecutando la transformada de hilbert\n",
      "Transformada de hilbert finalizada\n",
      "Iniciando detección de sismos\n",
      "Detección de sismos finalizada\n",
      "Exportando los valores del rango del sismo a una carpeta\n",
      "Archivo guardado en: output/data_rango_sismo/DataRangoSismo_S12_GradeB_xa.s12.00.mhz.1972-12-02HR00_evid00341.csv\n"
     ]
    },
    {
     "name": "stderr",
     "output_type": "stream",
     "text": [
      "/tmp/ipykernel_29378/844006441.py:107: SettingWithCopyWarning: \n",
      "A value is trying to be set on a copy of a slice from a DataFrame.\n",
      "Try using .loc[row_indexer,col_indexer] = value instead\n",
      "\n",
      "See the caveats in the documentation: https://pandas.pydata.org/pandas-docs/stable/user_guide/indexing.html#returning-a-view-versus-a-copy\n",
      "  PicoSismo[\"filename\"] = [base_name]\n"
     ]
    },
    {
     "name": "stdout",
     "output_type": "stream",
     "text": [
      "Leyendo archivo CSV: data/lunar/test/data/S12_GradeB/xa.s12.00.mhz.1973-11-22HR00_evid00475.csv\n",
      "Leyendo archivo mseed: data/lunar/test/data/S12_GradeB/xa.s12.00.mhz.1973-11-22HR00_evid00475.mseed\n",
      "Reducción de ruido por filtro high-pass, band-pass\n",
      "Finaliza reducción\n",
      "Ejecutando la transformada de hilbert\n",
      "Transformada de hilbert finalizada\n",
      "Iniciando detección de sismos\n",
      "Detección de sismos finalizada\n",
      "Exportando los valores del rango del sismo a una carpeta\n",
      "Archivo guardado en: output/data_rango_sismo/DataRangoSismo_S12_GradeB_xa.s12.00.mhz.1973-11-22HR00_evid00475.csv\n"
     ]
    },
    {
     "name": "stderr",
     "output_type": "stream",
     "text": [
      "/tmp/ipykernel_29378/844006441.py:107: SettingWithCopyWarning: \n",
      "A value is trying to be set on a copy of a slice from a DataFrame.\n",
      "Try using .loc[row_indexer,col_indexer] = value instead\n",
      "\n",
      "See the caveats in the documentation: https://pandas.pydata.org/pandas-docs/stable/user_guide/indexing.html#returning-a-view-versus-a-copy\n",
      "  PicoSismo[\"filename\"] = [base_name]\n"
     ]
    },
    {
     "name": "stdout",
     "output_type": "stream",
     "text": [
      "Leyendo archivo CSV: data/lunar/test/data/S12_GradeB/xa.s12.00.mhz.1977-04-26HR00_evid00924.csv\n",
      "Leyendo archivo mseed: data/lunar/test/data/S12_GradeB/xa.s12.00.mhz.1977-04-26HR00_evid00924.mseed\n",
      "Reducción de ruido por filtro high-pass, band-pass\n",
      "Finaliza reducción\n",
      "Ejecutando la transformada de hilbert\n",
      "Transformada de hilbert finalizada\n",
      "Iniciando detección de sismos\n",
      "Detección de sismos finalizada\n",
      "Exportando los valores del rango del sismo a una carpeta\n",
      "Archivo guardado en: output/data_rango_sismo/DataRangoSismo_S12_GradeB_xa.s12.00.mhz.1977-04-26HR00_evid00924.csv\n"
     ]
    },
    {
     "name": "stderr",
     "output_type": "stream",
     "text": [
      "/tmp/ipykernel_29378/844006441.py:107: SettingWithCopyWarning: \n",
      "A value is trying to be set on a copy of a slice from a DataFrame.\n",
      "Try using .loc[row_indexer,col_indexer] = value instead\n",
      "\n",
      "See the caveats in the documentation: https://pandas.pydata.org/pandas-docs/stable/user_guide/indexing.html#returning-a-view-versus-a-copy\n",
      "  PicoSismo[\"filename\"] = [base_name]\n"
     ]
    },
    {
     "name": "stdout",
     "output_type": "stream",
     "text": [
      "Leyendo archivo CSV: data/lunar/test/data/S12_GradeB/xa.s12.00.mhz.1974-10-02HR00_evid00572.csv\n",
      "Leyendo archivo mseed: data/lunar/test/data/S12_GradeB/xa.s12.00.mhz.1974-10-02HR00_evid00572.mseed\n",
      "Reducción de ruido por filtro high-pass, band-pass\n",
      "Finaliza reducción\n",
      "Ejecutando la transformada de hilbert\n",
      "Transformada de hilbert finalizada\n",
      "Iniciando detección de sismos\n",
      "Detección de sismos finalizada\n",
      "Exportando los valores del rango del sismo a una carpeta\n",
      "Archivo guardado en: output/data_rango_sismo/DataRangoSismo_S12_GradeB_xa.s12.00.mhz.1974-10-02HR00_evid00572.csv\n"
     ]
    },
    {
     "name": "stderr",
     "output_type": "stream",
     "text": [
      "/tmp/ipykernel_29378/844006441.py:107: SettingWithCopyWarning: \n",
      "A value is trying to be set on a copy of a slice from a DataFrame.\n",
      "Try using .loc[row_indexer,col_indexer] = value instead\n",
      "\n",
      "See the caveats in the documentation: https://pandas.pydata.org/pandas-docs/stable/user_guide/indexing.html#returning-a-view-versus-a-copy\n",
      "  PicoSismo[\"filename\"] = [base_name]\n"
     ]
    },
    {
     "name": "stdout",
     "output_type": "stream",
     "text": [
      "Leyendo archivo CSV: data/lunar/test/data/S12_GradeB/xa.s12.00.mhz.1972-11-19HR00_evid00335.csv\n",
      "Leyendo archivo mseed: data/lunar/test/data/S12_GradeB/xa.s12.00.mhz.1972-11-19HR00_evid00335.mseed\n",
      "Reducción de ruido por filtro high-pass, band-pass\n",
      "Finaliza reducción\n",
      "Ejecutando la transformada de hilbert\n",
      "Transformada de hilbert finalizada\n",
      "Iniciando detección de sismos\n",
      "Detección de sismos finalizada\n",
      "Exportando los valores del rango del sismo a una carpeta\n",
      "Archivo guardado en: output/data_rango_sismo/DataRangoSismo_S12_GradeB_xa.s12.00.mhz.1972-11-19HR00_evid00335.csv\n"
     ]
    },
    {
     "name": "stderr",
     "output_type": "stream",
     "text": [
      "/tmp/ipykernel_29378/844006441.py:107: SettingWithCopyWarning: \n",
      "A value is trying to be set on a copy of a slice from a DataFrame.\n",
      "Try using .loc[row_indexer,col_indexer] = value instead\n",
      "\n",
      "See the caveats in the documentation: https://pandas.pydata.org/pandas-docs/stable/user_guide/indexing.html#returning-a-view-versus-a-copy\n",
      "  PicoSismo[\"filename\"] = [base_name]\n"
     ]
    },
    {
     "name": "stdout",
     "output_type": "stream",
     "text": [
      "Leyendo archivo CSV: data/lunar/test/data/S12_GradeB/xa.s12.00.mhz.1972-01-26HR00_evid00186.csv\n",
      "Leyendo archivo mseed: data/lunar/test/data/S12_GradeB/xa.s12.00.mhz.1972-01-26HR00_evid00186.mseed\n",
      "Reducción de ruido por filtro high-pass, band-pass\n",
      "Finaliza reducción\n",
      "Ejecutando la transformada de hilbert\n",
      "Transformada de hilbert finalizada\n",
      "Iniciando detección de sismos\n",
      "Detección de sismos finalizada\n",
      "Exportando los valores del rango del sismo a una carpeta\n",
      "Archivo guardado en: output/data_rango_sismo/DataRangoSismo_S12_GradeB_xa.s12.00.mhz.1972-01-26HR00_evid00186.csv\n"
     ]
    },
    {
     "name": "stderr",
     "output_type": "stream",
     "text": [
      "/tmp/ipykernel_29378/844006441.py:107: SettingWithCopyWarning: \n",
      "A value is trying to be set on a copy of a slice from a DataFrame.\n",
      "Try using .loc[row_indexer,col_indexer] = value instead\n",
      "\n",
      "See the caveats in the documentation: https://pandas.pydata.org/pandas-docs/stable/user_guide/indexing.html#returning-a-view-versus-a-copy\n",
      "  PicoSismo[\"filename\"] = [base_name]\n"
     ]
    },
    {
     "name": "stdout",
     "output_type": "stream",
     "text": [
      "Leyendo archivo CSV: data/lunar/test/data/S12_GradeB/xa.s12.00.mhz.1971-06-27HR00_evid00101.csv\n",
      "Leyendo archivo mseed: data/lunar/test/data/S12_GradeB/xa.s12.00.mhz.1971-06-27HR00_evid00101.mseed\n",
      "Reducción de ruido por filtro high-pass, band-pass\n",
      "Finaliza reducción\n",
      "Ejecutando la transformada de hilbert\n",
      "Transformada de hilbert finalizada\n",
      "Iniciando detección de sismos\n",
      "Detección de sismos finalizada\n",
      "Exportando los valores del rango del sismo a una carpeta\n",
      "Archivo guardado en: output/data_rango_sismo/DataRangoSismo_S12_GradeB_xa.s12.00.mhz.1971-06-27HR00_evid00101.csv\n"
     ]
    },
    {
     "name": "stderr",
     "output_type": "stream",
     "text": [
      "/tmp/ipykernel_29378/844006441.py:107: SettingWithCopyWarning: \n",
      "A value is trying to be set on a copy of a slice from a DataFrame.\n",
      "Try using .loc[row_indexer,col_indexer] = value instead\n",
      "\n",
      "See the caveats in the documentation: https://pandas.pydata.org/pandas-docs/stable/user_guide/indexing.html#returning-a-view-versus-a-copy\n",
      "  PicoSismo[\"filename\"] = [base_name]\n"
     ]
    },
    {
     "name": "stdout",
     "output_type": "stream",
     "text": [
      "Leyendo archivo CSV: data/lunar/test/data/S12_GradeB/xa.s12.00.mhz.1971-10-06HR00_evid00125.csv\n",
      "Leyendo archivo mseed: data/lunar/test/data/S12_GradeB/xa.s12.00.mhz.1971-10-06HR00_evid00125.mseed\n",
      "Reducción de ruido por filtro high-pass, band-pass\n",
      "Finaliza reducción\n",
      "Ejecutando la transformada de hilbert\n",
      "Transformada de hilbert finalizada\n",
      "Iniciando detección de sismos\n",
      "Detección de sismos finalizada\n",
      "Exportando los valores del rango del sismo a una carpeta\n",
      "Archivo guardado en: output/data_rango_sismo/DataRangoSismo_S12_GradeB_xa.s12.00.mhz.1971-10-06HR00_evid00125.csv\n"
     ]
    },
    {
     "name": "stderr",
     "output_type": "stream",
     "text": [
      "/tmp/ipykernel_29378/844006441.py:107: SettingWithCopyWarning: \n",
      "A value is trying to be set on a copy of a slice from a DataFrame.\n",
      "Try using .loc[row_indexer,col_indexer] = value instead\n",
      "\n",
      "See the caveats in the documentation: https://pandas.pydata.org/pandas-docs/stable/user_guide/indexing.html#returning-a-view-versus-a-copy\n",
      "  PicoSismo[\"filename\"] = [base_name]\n"
     ]
    },
    {
     "name": "stdout",
     "output_type": "stream",
     "text": [
      "Leyendo archivo CSV: data/lunar/test/data/S12_GradeB/xa.s12.00.mhz.1970-10-26HR00_evid00049.csv\n",
      "Leyendo archivo mseed: data/lunar/test/data/S12_GradeB/xa.s12.00.mhz.1970-10-26HR00_evid00049.mseed\n",
      "Reducción de ruido por filtro high-pass, band-pass\n",
      "Finaliza reducción\n",
      "Ejecutando la transformada de hilbert\n",
      "Transformada de hilbert finalizada\n",
      "Iniciando detección de sismos\n",
      "Detección de sismos finalizada\n",
      "Exportando los valores del rango del sismo a una carpeta\n",
      "Archivo guardado en: output/data_rango_sismo/DataRangoSismo_S12_GradeB_xa.s12.00.mhz.1970-10-26HR00_evid00049.csv\n"
     ]
    },
    {
     "name": "stderr",
     "output_type": "stream",
     "text": [
      "/tmp/ipykernel_29378/844006441.py:107: SettingWithCopyWarning: \n",
      "A value is trying to be set on a copy of a slice from a DataFrame.\n",
      "Try using .loc[row_indexer,col_indexer] = value instead\n",
      "\n",
      "See the caveats in the documentation: https://pandas.pydata.org/pandas-docs/stable/user_guide/indexing.html#returning-a-view-versus-a-copy\n",
      "  PicoSismo[\"filename\"] = [base_name]\n"
     ]
    },
    {
     "name": "stdout",
     "output_type": "stream",
     "text": [
      "Leyendo archivo CSV: data/lunar/test/data/S12_GradeB/xa.s12.00.mhz.1970-05-24HR00_evid00028.csv\n",
      "Leyendo archivo mseed: data/lunar/test/data/S12_GradeB/xa.s12.00.mhz.1970-05-24HR00_evid00028.mseed\n",
      "Reducción de ruido por filtro high-pass, band-pass\n",
      "Finaliza reducción\n",
      "Ejecutando la transformada de hilbert\n",
      "Transformada de hilbert finalizada\n",
      "Iniciando detección de sismos\n",
      "Detección de sismos finalizada\n",
      "Exportando los valores del rango del sismo a una carpeta\n",
      "Archivo guardado en: output/data_rango_sismo/DataRangoSismo_S12_GradeB_xa.s12.00.mhz.1970-05-24HR00_evid00028.csv\n"
     ]
    },
    {
     "name": "stderr",
     "output_type": "stream",
     "text": [
      "/tmp/ipykernel_29378/844006441.py:107: SettingWithCopyWarning: \n",
      "A value is trying to be set on a copy of a slice from a DataFrame.\n",
      "Try using .loc[row_indexer,col_indexer] = value instead\n",
      "\n",
      "See the caveats in the documentation: https://pandas.pydata.org/pandas-docs/stable/user_guide/indexing.html#returning-a-view-versus-a-copy\n",
      "  PicoSismo[\"filename\"] = [base_name]\n"
     ]
    },
    {
     "name": "stdout",
     "output_type": "stream",
     "text": [
      "Leyendo archivo CSV: data/lunar/test/data/S12_GradeB/xa.s12.00.mhz.1970-11-03HR00_evid00050.csv\n",
      "Leyendo archivo mseed: data/lunar/test/data/S12_GradeB/xa.s12.00.mhz.1970-11-03HR00_evid00050.mseed\n",
      "Reducción de ruido por filtro high-pass, band-pass\n",
      "Finaliza reducción\n",
      "Ejecutando la transformada de hilbert\n",
      "Transformada de hilbert finalizada\n",
      "Iniciando detección de sismos\n",
      "Detección de sismos finalizada\n",
      "Exportando los valores del rango del sismo a una carpeta\n",
      "Archivo guardado en: output/data_rango_sismo/DataRangoSismo_S12_GradeB_xa.s12.00.mhz.1970-11-03HR00_evid00050.csv\n"
     ]
    },
    {
     "name": "stderr",
     "output_type": "stream",
     "text": [
      "/tmp/ipykernel_29378/844006441.py:107: SettingWithCopyWarning: \n",
      "A value is trying to be set on a copy of a slice from a DataFrame.\n",
      "Try using .loc[row_indexer,col_indexer] = value instead\n",
      "\n",
      "See the caveats in the documentation: https://pandas.pydata.org/pandas-docs/stable/user_guide/indexing.html#returning-a-view-versus-a-copy\n",
      "  PicoSismo[\"filename\"] = [base_name]\n"
     ]
    },
    {
     "name": "stdout",
     "output_type": "stream",
     "text": [
      "Leyendo archivo CSV: data/lunar/test/data/S12_GradeB/xa.s12.00.mhz.1969-12-16HR00_evid00006.csv\n",
      "Leyendo archivo mseed: data/lunar/test/data/S12_GradeB/xa.s12.00.mhz.1969-12-16HR00_evid00006.mseed\n",
      "Reducción de ruido por filtro high-pass, band-pass\n",
      "Finaliza reducción\n",
      "Ejecutando la transformada de hilbert\n",
      "Transformada de hilbert finalizada\n",
      "Iniciando detección de sismos\n",
      "Detección de sismos finalizada\n",
      "Exportando los valores del rango del sismo a una carpeta\n",
      "Archivo guardado en: output/data_rango_sismo/DataRangoSismo_S12_GradeB_xa.s12.00.mhz.1969-12-16HR00_evid00006.csv\n"
     ]
    },
    {
     "name": "stderr",
     "output_type": "stream",
     "text": [
      "/tmp/ipykernel_29378/844006441.py:107: SettingWithCopyWarning: \n",
      "A value is trying to be set on a copy of a slice from a DataFrame.\n",
      "Try using .loc[row_indexer,col_indexer] = value instead\n",
      "\n",
      "See the caveats in the documentation: https://pandas.pydata.org/pandas-docs/stable/user_guide/indexing.html#returning-a-view-versus-a-copy\n",
      "  PicoSismo[\"filename\"] = [base_name]\n"
     ]
    },
    {
     "name": "stdout",
     "output_type": "stream",
     "text": [
      "Leyendo archivo CSV: data/lunar/test/data/S12_GradeB/xa.s12.00.mhz.1974-03-14HR00_evid00506.csv\n",
      "Leyendo archivo mseed: data/lunar/test/data/S12_GradeB/xa.s12.00.mhz.1974-03-14HR00_evid00506.mseed\n",
      "Reducción de ruido por filtro high-pass, band-pass\n",
      "Finaliza reducción\n",
      "Ejecutando la transformada de hilbert\n",
      "Transformada de hilbert finalizada\n",
      "Iniciando detección de sismos\n",
      "Detección de sismos finalizada\n",
      "Exportando los valores del rango del sismo a una carpeta\n",
      "Archivo guardado en: output/data_rango_sismo/DataRangoSismo_S12_GradeB_xa.s12.00.mhz.1974-03-14HR00_evid00506.csv\n"
     ]
    },
    {
     "name": "stderr",
     "output_type": "stream",
     "text": [
      "/tmp/ipykernel_29378/844006441.py:107: SettingWithCopyWarning: \n",
      "A value is trying to be set on a copy of a slice from a DataFrame.\n",
      "Try using .loc[row_indexer,col_indexer] = value instead\n",
      "\n",
      "See the caveats in the documentation: https://pandas.pydata.org/pandas-docs/stable/user_guide/indexing.html#returning-a-view-versus-a-copy\n",
      "  PicoSismo[\"filename\"] = [base_name]\n"
     ]
    },
    {
     "name": "stdout",
     "output_type": "stream",
     "text": [
      "Leyendo archivo CSV: data/lunar/test/data/S12_GradeB/xa.s12.00.mhz.1970-11-03HR00_evid00051.csv\n",
      "Leyendo archivo mseed: data/lunar/test/data/S12_GradeB/xa.s12.00.mhz.1970-11-03HR00_evid00051.mseed\n",
      "Reducción de ruido por filtro high-pass, band-pass\n",
      "Finaliza reducción\n",
      "Ejecutando la transformada de hilbert\n",
      "Transformada de hilbert finalizada\n",
      "Iniciando detección de sismos\n",
      "Detección de sismos finalizada\n",
      "Exportando los valores del rango del sismo a una carpeta\n",
      "Archivo guardado en: output/data_rango_sismo/DataRangoSismo_S12_GradeB_xa.s12.00.mhz.1970-11-03HR00_evid00051.csv\n"
     ]
    },
    {
     "name": "stderr",
     "output_type": "stream",
     "text": [
      "/tmp/ipykernel_29378/844006441.py:107: SettingWithCopyWarning: \n",
      "A value is trying to be set on a copy of a slice from a DataFrame.\n",
      "Try using .loc[row_indexer,col_indexer] = value instead\n",
      "\n",
      "See the caveats in the documentation: https://pandas.pydata.org/pandas-docs/stable/user_guide/indexing.html#returning-a-view-versus-a-copy\n",
      "  PicoSismo[\"filename\"] = [base_name]\n"
     ]
    },
    {
     "name": "stdout",
     "output_type": "stream",
     "text": [
      "Leyendo archivo CSV: data/lunar/test/data/S12_GradeB/xa.s12.00.mhz.1974-06-30HR00_evid00543.csv\n",
      "Leyendo archivo mseed: data/lunar/test/data/S12_GradeB/xa.s12.00.mhz.1974-06-30HR00_evid00543.mseed\n",
      "Reducción de ruido por filtro high-pass, band-pass\n",
      "Finaliza reducción\n",
      "Ejecutando la transformada de hilbert\n",
      "Transformada de hilbert finalizada\n",
      "Iniciando detección de sismos\n",
      "Detección de sismos finalizada\n",
      "Exportando los valores del rango del sismo a una carpeta\n",
      "Archivo guardado en: output/data_rango_sismo/DataRangoSismo_S12_GradeB_xa.s12.00.mhz.1974-06-30HR00_evid00543.csv\n"
     ]
    },
    {
     "name": "stderr",
     "output_type": "stream",
     "text": [
      "/tmp/ipykernel_29378/844006441.py:107: SettingWithCopyWarning: \n",
      "A value is trying to be set on a copy of a slice from a DataFrame.\n",
      "Try using .loc[row_indexer,col_indexer] = value instead\n",
      "\n",
      "See the caveats in the documentation: https://pandas.pydata.org/pandas-docs/stable/user_guide/indexing.html#returning-a-view-versus-a-copy\n",
      "  PicoSismo[\"filename\"] = [base_name]\n"
     ]
    },
    {
     "name": "stdout",
     "output_type": "stream",
     "text": [
      "Leyendo archivo CSV: data/lunar/test/data/S12_GradeB/xa.s12.00.mhz.1971-05-22HR00_evid00092.csv\n",
      "Leyendo archivo mseed: data/lunar/test/data/S12_GradeB/xa.s12.00.mhz.1971-05-22HR00_evid00092.mseed\n",
      "Reducción de ruido por filtro high-pass, band-pass\n",
      "Finaliza reducción\n",
      "Ejecutando la transformada de hilbert\n",
      "Transformada de hilbert finalizada\n",
      "Iniciando detección de sismos\n",
      "Detección de sismos finalizada\n",
      "Exportando los valores del rango del sismo a una carpeta\n",
      "Archivo guardado en: output/data_rango_sismo/DataRangoSismo_S12_GradeB_xa.s12.00.mhz.1971-05-22HR00_evid00092.csv\n"
     ]
    },
    {
     "name": "stderr",
     "output_type": "stream",
     "text": [
      "/tmp/ipykernel_29378/844006441.py:107: SettingWithCopyWarning: \n",
      "A value is trying to be set on a copy of a slice from a DataFrame.\n",
      "Try using .loc[row_indexer,col_indexer] = value instead\n",
      "\n",
      "See the caveats in the documentation: https://pandas.pydata.org/pandas-docs/stable/user_guide/indexing.html#returning-a-view-versus-a-copy\n",
      "  PicoSismo[\"filename\"] = [base_name]\n"
     ]
    },
    {
     "name": "stdout",
     "output_type": "stream",
     "text": [
      "Leyendo archivo CSV: data/lunar/test/data/S12_GradeB/xa.s12.00.mhz.1977-09-13HR00_evid01012.csv\n",
      "Leyendo archivo mseed: data/lunar/test/data/S12_GradeB/xa.s12.00.mhz.1977-09-13HR00_evid01012.mseed\n",
      "Reducción de ruido por filtro high-pass, band-pass\n",
      "Finaliza reducción\n",
      "Ejecutando la transformada de hilbert\n",
      "Transformada de hilbert finalizada\n",
      "Iniciando detección de sismos\n",
      "Detección de sismos finalizada\n",
      "Exportando los valores del rango del sismo a una carpeta\n",
      "Archivo guardado en: output/data_rango_sismo/DataRangoSismo_S12_GradeB_xa.s12.00.mhz.1977-09-13HR00_evid01012.csv\n"
     ]
    },
    {
     "name": "stderr",
     "output_type": "stream",
     "text": [
      "/tmp/ipykernel_29378/844006441.py:107: SettingWithCopyWarning: \n",
      "A value is trying to be set on a copy of a slice from a DataFrame.\n",
      "Try using .loc[row_indexer,col_indexer] = value instead\n",
      "\n",
      "See the caveats in the documentation: https://pandas.pydata.org/pandas-docs/stable/user_guide/indexing.html#returning-a-view-versus-a-copy\n",
      "  PicoSismo[\"filename\"] = [base_name]\n"
     ]
    },
    {
     "name": "stdout",
     "output_type": "stream",
     "text": [
      "Leyendo archivo CSV: data/lunar/test/data/S12_GradeB/xa.s12.00.mhz.1970-07-17HR00_evid00035.csv\n",
      "Leyendo archivo mseed: data/lunar/test/data/S12_GradeB/xa.s12.00.mhz.1970-07-17HR00_evid00035.mseed\n",
      "Reducción de ruido por filtro high-pass, band-pass\n",
      "Finaliza reducción\n",
      "Ejecutando la transformada de hilbert\n",
      "Transformada de hilbert finalizada\n",
      "Iniciando detección de sismos\n",
      "Detección de sismos finalizada\n",
      "Exportando los valores del rango del sismo a una carpeta\n",
      "Archivo guardado en: output/data_rango_sismo/DataRangoSismo_S12_GradeB_xa.s12.00.mhz.1970-07-17HR00_evid00035.csv\n"
     ]
    },
    {
     "name": "stderr",
     "output_type": "stream",
     "text": [
      "/tmp/ipykernel_29378/844006441.py:107: SettingWithCopyWarning: \n",
      "A value is trying to be set on a copy of a slice from a DataFrame.\n",
      "Try using .loc[row_indexer,col_indexer] = value instead\n",
      "\n",
      "See the caveats in the documentation: https://pandas.pydata.org/pandas-docs/stable/user_guide/indexing.html#returning-a-view-versus-a-copy\n",
      "  PicoSismo[\"filename\"] = [base_name]\n"
     ]
    },
    {
     "name": "stdout",
     "output_type": "stream",
     "text": [
      "Leyendo archivo CSV: data/lunar/test/data/S12_GradeB/xa.s12.00.mhz.1972-12-06HR00_evid00342.csv\n",
      "Leyendo archivo mseed: data/lunar/test/data/S12_GradeB/xa.s12.00.mhz.1972-12-06HR00_evid00342.mseed\n",
      "Reducción de ruido por filtro high-pass, band-pass\n",
      "Finaliza reducción\n",
      "Ejecutando la transformada de hilbert\n",
      "Transformada de hilbert finalizada\n",
      "Iniciando detección de sismos\n",
      "Detección de sismos finalizada\n",
      "Exportando los valores del rango del sismo a una carpeta\n",
      "Archivo guardado en: output/data_rango_sismo/DataRangoSismo_S12_GradeB_xa.s12.00.mhz.1972-12-06HR00_evid00342.csv\n"
     ]
    },
    {
     "name": "stderr",
     "output_type": "stream",
     "text": [
      "/tmp/ipykernel_29378/844006441.py:107: SettingWithCopyWarning: \n",
      "A value is trying to be set on a copy of a slice from a DataFrame.\n",
      "Try using .loc[row_indexer,col_indexer] = value instead\n",
      "\n",
      "See the caveats in the documentation: https://pandas.pydata.org/pandas-docs/stable/user_guide/indexing.html#returning-a-view-versus-a-copy\n",
      "  PicoSismo[\"filename\"] = [base_name]\n"
     ]
    },
    {
     "name": "stdout",
     "output_type": "stream",
     "text": [
      "Leyendo archivo CSV: data/lunar/test/data/S12_GradeB/xa.s12.00.mhz.1975-05-20HR00_evid00652.csv\n",
      "Leyendo archivo mseed: data/lunar/test/data/S12_GradeB/xa.s12.00.mhz.1975-05-20HR00_evid00652.mseed\n",
      "Reducción de ruido por filtro high-pass, band-pass\n",
      "Finaliza reducción\n",
      "Ejecutando la transformada de hilbert\n",
      "Transformada de hilbert finalizada\n",
      "Iniciando detección de sismos\n",
      "Detección de sismos finalizada\n",
      "Exportando los valores del rango del sismo a una carpeta\n",
      "Archivo guardado en: output/data_rango_sismo/DataRangoSismo_S12_GradeB_xa.s12.00.mhz.1975-05-20HR00_evid00652.csv\n"
     ]
    },
    {
     "name": "stderr",
     "output_type": "stream",
     "text": [
      "/tmp/ipykernel_29378/844006441.py:107: SettingWithCopyWarning: \n",
      "A value is trying to be set on a copy of a slice from a DataFrame.\n",
      "Try using .loc[row_indexer,col_indexer] = value instead\n",
      "\n",
      "See the caveats in the documentation: https://pandas.pydata.org/pandas-docs/stable/user_guide/indexing.html#returning-a-view-versus-a-copy\n",
      "  PicoSismo[\"filename\"] = [base_name]\n"
     ]
    },
    {
     "name": "stdout",
     "output_type": "stream",
     "text": [
      "Leyendo archivo CSV: data/lunar/test/data/S12_GradeB/xa.s12.00.mhz.1977-07-19HR00_evid00991.csv\n",
      "Leyendo archivo mseed: data/lunar/test/data/S12_GradeB/xa.s12.00.mhz.1977-07-19HR00_evid00991.mseed\n",
      "Reducción de ruido por filtro high-pass, band-pass\n",
      "Finaliza reducción\n",
      "Ejecutando la transformada de hilbert\n",
      "Transformada de hilbert finalizada\n",
      "Iniciando detección de sismos\n",
      "Detección de sismos finalizada\n",
      "Exportando los valores del rango del sismo a una carpeta\n",
      "Archivo guardado en: output/data_rango_sismo/DataRangoSismo_S12_GradeB_xa.s12.00.mhz.1977-07-19HR00_evid00991.csv\n"
     ]
    },
    {
     "name": "stderr",
     "output_type": "stream",
     "text": [
      "/tmp/ipykernel_29378/844006441.py:107: SettingWithCopyWarning: \n",
      "A value is trying to be set on a copy of a slice from a DataFrame.\n",
      "Try using .loc[row_indexer,col_indexer] = value instead\n",
      "\n",
      "See the caveats in the documentation: https://pandas.pydata.org/pandas-docs/stable/user_guide/indexing.html#returning-a-view-versus-a-copy\n",
      "  PicoSismo[\"filename\"] = [base_name]\n"
     ]
    },
    {
     "name": "stdout",
     "output_type": "stream",
     "text": [
      "Leyendo archivo CSV: data/lunar/test/data/S12_GradeB/xa.s12.00.mhz.1973-10-10HR00_evid00463.csv\n",
      "Leyendo archivo mseed: data/lunar/test/data/S12_GradeB/xa.s12.00.mhz.1973-10-10HR00_evid00463.mseed\n",
      "Reducción de ruido por filtro high-pass, band-pass\n",
      "Finaliza reducción\n",
      "Ejecutando la transformada de hilbert\n",
      "Transformada de hilbert finalizada\n",
      "Iniciando detección de sismos\n",
      "Detección de sismos finalizada\n",
      "Exportando los valores del rango del sismo a una carpeta\n",
      "Archivo guardado en: output/data_rango_sismo/DataRangoSismo_S12_GradeB_xa.s12.00.mhz.1973-10-10HR00_evid00463.csv\n"
     ]
    },
    {
     "name": "stderr",
     "output_type": "stream",
     "text": [
      "/tmp/ipykernel_29378/844006441.py:107: SettingWithCopyWarning: \n",
      "A value is trying to be set on a copy of a slice from a DataFrame.\n",
      "Try using .loc[row_indexer,col_indexer] = value instead\n",
      "\n",
      "See the caveats in the documentation: https://pandas.pydata.org/pandas-docs/stable/user_guide/indexing.html#returning-a-view-versus-a-copy\n",
      "  PicoSismo[\"filename\"] = [base_name]\n"
     ]
    },
    {
     "name": "stdout",
     "output_type": "stream",
     "text": [
      "Leyendo archivo CSV: data/lunar/test/data/S12_GradeB/xa.s12.00.mhz.1972-05-19HR00_evid00228.csv\n",
      "Leyendo archivo mseed: data/lunar/test/data/S12_GradeB/xa.s12.00.mhz.1972-05-19HR00_evid00228.mseed\n",
      "Reducción de ruido por filtro high-pass, band-pass\n",
      "Finaliza reducción\n",
      "Ejecutando la transformada de hilbert\n",
      "Transformada de hilbert finalizada\n",
      "Iniciando detección de sismos\n",
      "Detección de sismos finalizada\n",
      "Exportando los valores del rango del sismo a una carpeta\n",
      "Archivo guardado en: output/data_rango_sismo/DataRangoSismo_S12_GradeB_xa.s12.00.mhz.1972-05-19HR00_evid00228.csv\n"
     ]
    },
    {
     "name": "stderr",
     "output_type": "stream",
     "text": [
      "/tmp/ipykernel_29378/844006441.py:107: SettingWithCopyWarning: \n",
      "A value is trying to be set on a copy of a slice from a DataFrame.\n",
      "Try using .loc[row_indexer,col_indexer] = value instead\n",
      "\n",
      "See the caveats in the documentation: https://pandas.pydata.org/pandas-docs/stable/user_guide/indexing.html#returning-a-view-versus-a-copy\n",
      "  PicoSismo[\"filename\"] = [base_name]\n"
     ]
    },
    {
     "name": "stdout",
     "output_type": "stream",
     "text": [
      "Leyendo archivo CSV: data/lunar/test/data/S12_GradeB/xa.s12.00.mhz.1972-02-21HR00_evid00190.csv\n",
      "Leyendo archivo mseed: data/lunar/test/data/S12_GradeB/xa.s12.00.mhz.1972-02-21HR00_evid00190.mseed\n",
      "Reducción de ruido por filtro high-pass, band-pass\n",
      "Finaliza reducción\n",
      "Ejecutando la transformada de hilbert\n",
      "Transformada de hilbert finalizada\n",
      "Iniciando detección de sismos\n",
      "Detección de sismos finalizada\n",
      "Exportando los valores del rango del sismo a una carpeta\n",
      "Archivo guardado en: output/data_rango_sismo/DataRangoSismo_S12_GradeB_xa.s12.00.mhz.1972-02-21HR00_evid00190.csv\n"
     ]
    },
    {
     "name": "stderr",
     "output_type": "stream",
     "text": [
      "/tmp/ipykernel_29378/844006441.py:107: SettingWithCopyWarning: \n",
      "A value is trying to be set on a copy of a slice from a DataFrame.\n",
      "Try using .loc[row_indexer,col_indexer] = value instead\n",
      "\n",
      "See the caveats in the documentation: https://pandas.pydata.org/pandas-docs/stable/user_guide/indexing.html#returning-a-view-versus-a-copy\n",
      "  PicoSismo[\"filename\"] = [base_name]\n"
     ]
    },
    {
     "name": "stdout",
     "output_type": "stream",
     "text": [
      "Leyendo archivo CSV: data/lunar/test/data/S12_GradeB/xa.s12.00.mhz.1975-04-21HR00_evid00638.csv\n",
      "Leyendo archivo mseed: data/lunar/test/data/S12_GradeB/xa.s12.00.mhz.1975-04-21HR00_evid00638.mseed\n",
      "Reducción de ruido por filtro high-pass, band-pass\n",
      "Finaliza reducción\n",
      "Ejecutando la transformada de hilbert\n",
      "Transformada de hilbert finalizada\n",
      "Iniciando detección de sismos\n",
      "Detección de sismos finalizada\n",
      "Exportando los valores del rango del sismo a una carpeta\n",
      "Archivo guardado en: output/data_rango_sismo/DataRangoSismo_S12_GradeB_xa.s12.00.mhz.1975-04-21HR00_evid00638.csv\n"
     ]
    },
    {
     "name": "stderr",
     "output_type": "stream",
     "text": [
      "/tmp/ipykernel_29378/844006441.py:107: SettingWithCopyWarning: \n",
      "A value is trying to be set on a copy of a slice from a DataFrame.\n",
      "Try using .loc[row_indexer,col_indexer] = value instead\n",
      "\n",
      "See the caveats in the documentation: https://pandas.pydata.org/pandas-docs/stable/user_guide/indexing.html#returning-a-view-versus-a-copy\n",
      "  PicoSismo[\"filename\"] = [base_name]\n"
     ]
    },
    {
     "name": "stdout",
     "output_type": "stream",
     "text": [
      "Leyendo archivo CSV: data/lunar/test/data/S12_GradeB/xa.s12.00.mhz.1971-10-06HR00_evid00124.csv\n",
      "Leyendo archivo mseed: data/lunar/test/data/S12_GradeB/xa.s12.00.mhz.1971-10-06HR00_evid00124.mseed\n",
      "Reducción de ruido por filtro high-pass, band-pass\n",
      "Finaliza reducción\n",
      "Ejecutando la transformada de hilbert\n",
      "Transformada de hilbert finalizada\n",
      "Iniciando detección de sismos\n",
      "Detección de sismos finalizada\n",
      "Exportando los valores del rango del sismo a una carpeta\n",
      "Archivo guardado en: output/data_rango_sismo/DataRangoSismo_S12_GradeB_xa.s12.00.mhz.1971-10-06HR00_evid00124.csv\n"
     ]
    },
    {
     "name": "stderr",
     "output_type": "stream",
     "text": [
      "/tmp/ipykernel_29378/844006441.py:107: SettingWithCopyWarning: \n",
      "A value is trying to be set on a copy of a slice from a DataFrame.\n",
      "Try using .loc[row_indexer,col_indexer] = value instead\n",
      "\n",
      "See the caveats in the documentation: https://pandas.pydata.org/pandas-docs/stable/user_guide/indexing.html#returning-a-view-versus-a-copy\n",
      "  PicoSismo[\"filename\"] = [base_name]\n"
     ]
    },
    {
     "name": "stdout",
     "output_type": "stream",
     "text": [
      "Leyendo archivo CSV: data/lunar/test/data/S12_GradeB/xa.s12.00.mhz.1973-10-03HR03_evid00461.csv\n",
      "Leyendo archivo mseed: data/lunar/test/data/S12_GradeB/xa.s12.00.mhz.1973-10-03HR03_evid00461.mseed\n",
      "Reducción de ruido por filtro high-pass, band-pass\n",
      "Finaliza reducción\n",
      "Ejecutando la transformada de hilbert\n",
      "Transformada de hilbert finalizada\n",
      "Iniciando detección de sismos\n",
      "Detección de sismos finalizada\n",
      "Exportando los valores del rango del sismo a una carpeta\n",
      "Archivo guardado en: output/data_rango_sismo/DataRangoSismo_S12_GradeB_xa.s12.00.mhz.1973-10-03HR03_evid00461.csv\n"
     ]
    },
    {
     "name": "stderr",
     "output_type": "stream",
     "text": [
      "/tmp/ipykernel_29378/844006441.py:107: SettingWithCopyWarning: \n",
      "A value is trying to be set on a copy of a slice from a DataFrame.\n",
      "Try using .loc[row_indexer,col_indexer] = value instead\n",
      "\n",
      "See the caveats in the documentation: https://pandas.pydata.org/pandas-docs/stable/user_guide/indexing.html#returning-a-view-versus-a-copy\n",
      "  PicoSismo[\"filename\"] = [base_name]\n"
     ]
    },
    {
     "name": "stdout",
     "output_type": "stream",
     "text": [
      "Leyendo archivo CSV: data/lunar/test/data/S12_GradeB/xa.s12.00.mhz.1970-05-25HR00_evid00029.csv\n",
      "Leyendo archivo mseed: data/lunar/test/data/S12_GradeB/xa.s12.00.mhz.1970-05-25HR00_evid00029.mseed\n",
      "Reducción de ruido por filtro high-pass, band-pass\n",
      "Finaliza reducción\n",
      "Ejecutando la transformada de hilbert\n",
      "Transformada de hilbert finalizada\n",
      "Iniciando detección de sismos\n",
      "Detección de sismos finalizada\n",
      "Exportando los valores del rango del sismo a una carpeta\n",
      "Archivo guardado en: output/data_rango_sismo/DataRangoSismo_S12_GradeB_xa.s12.00.mhz.1970-05-25HR00_evid00029.csv\n"
     ]
    },
    {
     "name": "stderr",
     "output_type": "stream",
     "text": [
      "/tmp/ipykernel_29378/844006441.py:107: SettingWithCopyWarning: \n",
      "A value is trying to be set on a copy of a slice from a DataFrame.\n",
      "Try using .loc[row_indexer,col_indexer] = value instead\n",
      "\n",
      "See the caveats in the documentation: https://pandas.pydata.org/pandas-docs/stable/user_guide/indexing.html#returning-a-view-versus-a-copy\n",
      "  PicoSismo[\"filename\"] = [base_name]\n"
     ]
    },
    {
     "name": "stdout",
     "output_type": "stream",
     "text": [
      "Leyendo archivo CSV: data/lunar/test/data/S12_GradeB/xa.s12.00.mhz.1970-07-27HR00_evid00039.csv\n",
      "Leyendo archivo mseed: data/lunar/test/data/S12_GradeB/xa.s12.00.mhz.1970-07-27HR00_evid00039.mseed\n",
      "Reducción de ruido por filtro high-pass, band-pass\n",
      "Finaliza reducción\n",
      "Ejecutando la transformada de hilbert\n",
      "Transformada de hilbert finalizada\n",
      "Iniciando detección de sismos\n",
      "Detección de sismos finalizada\n",
      "Exportando los valores del rango del sismo a una carpeta\n",
      "Archivo guardado en: output/data_rango_sismo/DataRangoSismo_S12_GradeB_xa.s12.00.mhz.1970-07-27HR00_evid00039.csv\n"
     ]
    },
    {
     "name": "stderr",
     "output_type": "stream",
     "text": [
      "/tmp/ipykernel_29378/844006441.py:107: SettingWithCopyWarning: \n",
      "A value is trying to be set on a copy of a slice from a DataFrame.\n",
      "Try using .loc[row_indexer,col_indexer] = value instead\n",
      "\n",
      "See the caveats in the documentation: https://pandas.pydata.org/pandas-docs/stable/user_guide/indexing.html#returning-a-view-versus-a-copy\n",
      "  PicoSismo[\"filename\"] = [base_name]\n"
     ]
    },
    {
     "name": "stdout",
     "output_type": "stream",
     "text": [
      "Leyendo archivo CSV: data/lunar/test/data/S12_GradeB/xa.s12.00.mhz.1970-03-14HR00_evid00018.csv\n",
      "Leyendo archivo mseed: data/lunar/test/data/S12_GradeB/xa.s12.00.mhz.1970-03-14HR00_evid00018.mseed\n",
      "Reducción de ruido por filtro high-pass, band-pass\n",
      "Finaliza reducción\n",
      "Ejecutando la transformada de hilbert\n",
      "Transformada de hilbert finalizada\n",
      "Iniciando detección de sismos\n",
      "Detección de sismos finalizada\n",
      "Exportando los valores del rango del sismo a una carpeta\n",
      "Archivo guardado en: output/data_rango_sismo/DataRangoSismo_S12_GradeB_xa.s12.00.mhz.1970-03-14HR00_evid00018.csv\n"
     ]
    },
    {
     "name": "stderr",
     "output_type": "stream",
     "text": [
      "/tmp/ipykernel_29378/844006441.py:107: SettingWithCopyWarning: \n",
      "A value is trying to be set on a copy of a slice from a DataFrame.\n",
      "Try using .loc[row_indexer,col_indexer] = value instead\n",
      "\n",
      "See the caveats in the documentation: https://pandas.pydata.org/pandas-docs/stable/user_guide/indexing.html#returning-a-view-versus-a-copy\n",
      "  PicoSismo[\"filename\"] = [base_name]\n"
     ]
    },
    {
     "name": "stdout",
     "output_type": "stream",
     "text": [
      "Leyendo archivo CSV: data/lunar/test/data/S12_GradeB/xa.s12.00.mhz.1970-07-20HR00_evid00037.csv\n",
      "Leyendo archivo mseed: data/lunar/test/data/S12_GradeB/xa.s12.00.mhz.1970-07-20HR00_evid00037.mseed\n",
      "Reducción de ruido por filtro high-pass, band-pass\n",
      "Finaliza reducción\n",
      "Ejecutando la transformada de hilbert\n",
      "Transformada de hilbert finalizada\n",
      "Iniciando detección de sismos\n",
      "Detección de sismos finalizada\n",
      "Exportando los valores del rango del sismo a una carpeta\n",
      "Archivo guardado en: output/data_rango_sismo/DataRangoSismo_S12_GradeB_xa.s12.00.mhz.1970-07-20HR00_evid00037.csv\n"
     ]
    },
    {
     "name": "stderr",
     "output_type": "stream",
     "text": [
      "/tmp/ipykernel_29378/844006441.py:107: SettingWithCopyWarning: \n",
      "A value is trying to be set on a copy of a slice from a DataFrame.\n",
      "Try using .loc[row_indexer,col_indexer] = value instead\n",
      "\n",
      "See the caveats in the documentation: https://pandas.pydata.org/pandas-docs/stable/user_guide/indexing.html#returning-a-view-versus-a-copy\n",
      "  PicoSismo[\"filename\"] = [base_name]\n"
     ]
    },
    {
     "name": "stdout",
     "output_type": "stream",
     "text": [
      "Leyendo archivo CSV: data/lunar/test/data/S12_GradeB/xa.s12.00.mhz.1970-09-09HR00_evid00043.csv\n",
      "Leyendo archivo mseed: data/lunar/test/data/S12_GradeB/xa.s12.00.mhz.1970-09-09HR00_evid00043.mseed\n",
      "Reducción de ruido por filtro high-pass, band-pass\n",
      "Finaliza reducción\n",
      "Ejecutando la transformada de hilbert\n",
      "Transformada de hilbert finalizada\n",
      "Iniciando detección de sismos\n",
      "Detección de sismos finalizada\n",
      "Exportando los valores del rango del sismo a una carpeta\n",
      "Archivo guardado en: output/data_rango_sismo/DataRangoSismo_S12_GradeB_xa.s12.00.mhz.1970-09-09HR00_evid00043.csv\n"
     ]
    },
    {
     "name": "stderr",
     "output_type": "stream",
     "text": [
      "/tmp/ipykernel_29378/844006441.py:107: SettingWithCopyWarning: \n",
      "A value is trying to be set on a copy of a slice from a DataFrame.\n",
      "Try using .loc[row_indexer,col_indexer] = value instead\n",
      "\n",
      "See the caveats in the documentation: https://pandas.pydata.org/pandas-docs/stable/user_guide/indexing.html#returning-a-view-versus-a-copy\n",
      "  PicoSismo[\"filename\"] = [base_name]\n"
     ]
    },
    {
     "name": "stdout",
     "output_type": "stream",
     "text": [
      "Leyendo archivo CSV: data/lunar/test/data/S12_GradeB/xa.s12.00.mhz.1972-12-15HR00_evid00349.csv\n",
      "Leyendo archivo mseed: data/lunar/test/data/S12_GradeB/xa.s12.00.mhz.1972-12-15HR00_evid00349.mseed\n",
      "Reducción de ruido por filtro high-pass, band-pass\n",
      "Finaliza reducción\n",
      "Ejecutando la transformada de hilbert\n",
      "Transformada de hilbert finalizada\n",
      "Iniciando detección de sismos\n",
      "Detección de sismos finalizada\n",
      "Exportando los valores del rango del sismo a una carpeta\n",
      "Archivo guardado en: output/data_rango_sismo/DataRangoSismo_S12_GradeB_xa.s12.00.mhz.1972-12-15HR00_evid00349.csv\n"
     ]
    },
    {
     "name": "stderr",
     "output_type": "stream",
     "text": [
      "/tmp/ipykernel_29378/844006441.py:107: SettingWithCopyWarning: \n",
      "A value is trying to be set on a copy of a slice from a DataFrame.\n",
      "Try using .loc[row_indexer,col_indexer] = value instead\n",
      "\n",
      "See the caveats in the documentation: https://pandas.pydata.org/pandas-docs/stable/user_guide/indexing.html#returning-a-view-versus-a-copy\n",
      "  PicoSismo[\"filename\"] = [base_name]\n"
     ]
    },
    {
     "name": "stdout",
     "output_type": "stream",
     "text": [
      "Leyendo archivo CSV: data/lunar/test/data/S12_GradeB/xa.s12.00.mhz.1970-01-09HR00_evid00007.csv\n",
      "Leyendo archivo mseed: data/lunar/test/data/S12_GradeB/xa.s12.00.mhz.1970-01-09HR00_evid00007.mseed\n",
      "Reducción de ruido por filtro high-pass, band-pass\n",
      "Finaliza reducción\n",
      "Ejecutando la transformada de hilbert\n",
      "Transformada de hilbert finalizada\n",
      "Iniciando detección de sismos\n",
      "Detección de sismos finalizada\n",
      "Exportando los valores del rango del sismo a una carpeta\n",
      "Archivo guardado en: output/data_rango_sismo/DataRangoSismo_S12_GradeB_xa.s12.00.mhz.1970-01-09HR00_evid00007.csv\n"
     ]
    },
    {
     "name": "stderr",
     "output_type": "stream",
     "text": [
      "/tmp/ipykernel_29378/844006441.py:107: SettingWithCopyWarning: \n",
      "A value is trying to be set on a copy of a slice from a DataFrame.\n",
      "Try using .loc[row_indexer,col_indexer] = value instead\n",
      "\n",
      "See the caveats in the documentation: https://pandas.pydata.org/pandas-docs/stable/user_guide/indexing.html#returning-a-view-versus-a-copy\n",
      "  PicoSismo[\"filename\"] = [base_name]\n"
     ]
    },
    {
     "name": "stdout",
     "output_type": "stream",
     "text": [
      "Leyendo archivo CSV: data/lunar/test/data/S12_GradeB/xa.s12.00.mhz.1974-03-30HR00_evid00512.csv\n",
      "Leyendo archivo mseed: data/lunar/test/data/S12_GradeB/xa.s12.00.mhz.1974-03-30HR00_evid00512.mseed\n",
      "Reducción de ruido por filtro high-pass, band-pass\n",
      "Finaliza reducción\n",
      "Ejecutando la transformada de hilbert\n",
      "Transformada de hilbert finalizada\n",
      "Iniciando detección de sismos\n",
      "Detección de sismos finalizada\n",
      "Exportando los valores del rango del sismo a una carpeta\n",
      "Archivo guardado en: output/data_rango_sismo/DataRangoSismo_S12_GradeB_xa.s12.00.mhz.1974-03-30HR00_evid00512.csv\n"
     ]
    },
    {
     "name": "stderr",
     "output_type": "stream",
     "text": [
      "/tmp/ipykernel_29378/844006441.py:107: SettingWithCopyWarning: \n",
      "A value is trying to be set on a copy of a slice from a DataFrame.\n",
      "Try using .loc[row_indexer,col_indexer] = value instead\n",
      "\n",
      "See the caveats in the documentation: https://pandas.pydata.org/pandas-docs/stable/user_guide/indexing.html#returning-a-view-versus-a-copy\n",
      "  PicoSismo[\"filename\"] = [base_name]\n"
     ]
    },
    {
     "name": "stdout",
     "output_type": "stream",
     "text": [
      "Leyendo archivo CSV: data/lunar/test/data/S12_GradeB/xa.s12.00.mhz.1971-11-24HR00_evid00156.csv\n",
      "Leyendo archivo mseed: data/lunar/test/data/S12_GradeB/xa.s12.00.mhz.1971-11-24HR00_evid00156.mseed\n",
      "Reducción de ruido por filtro high-pass, band-pass\n",
      "Finaliza reducción\n",
      "Ejecutando la transformada de hilbert\n",
      "Transformada de hilbert finalizada\n",
      "Iniciando detección de sismos\n",
      "Detección de sismos finalizada\n",
      "Exportando los valores del rango del sismo a una carpeta\n",
      "Archivo guardado en: output/data_rango_sismo/DataRangoSismo_S12_GradeB_xa.s12.00.mhz.1971-11-24HR00_evid00156.csv\n"
     ]
    },
    {
     "name": "stderr",
     "output_type": "stream",
     "text": [
      "/tmp/ipykernel_29378/844006441.py:107: SettingWithCopyWarning: \n",
      "A value is trying to be set on a copy of a slice from a DataFrame.\n",
      "Try using .loc[row_indexer,col_indexer] = value instead\n",
      "\n",
      "See the caveats in the documentation: https://pandas.pydata.org/pandas-docs/stable/user_guide/indexing.html#returning-a-view-versus-a-copy\n",
      "  PicoSismo[\"filename\"] = [base_name]\n"
     ]
    },
    {
     "name": "stdout",
     "output_type": "stream",
     "text": [
      "Leyendo archivo CSV: data/lunar/test/data/S12_GradeB/xa.s12.00.mhz.1970-02-07HR00_evid00014.csv\n",
      "Leyendo archivo mseed: data/lunar/test/data/S12_GradeB/xa.s12.00.mhz.1970-02-07HR00_evid00014.mseed\n",
      "Reducción de ruido por filtro high-pass, band-pass\n",
      "Finaliza reducción\n",
      "Ejecutando la transformada de hilbert\n",
      "Transformada de hilbert finalizada\n",
      "Iniciando detección de sismos\n",
      "Detección de sismos finalizada\n",
      "Exportando los valores del rango del sismo a una carpeta\n",
      "Archivo guardado en: output/data_rango_sismo/DataRangoSismo_S12_GradeB_xa.s12.00.mhz.1970-02-07HR00_evid00014.csv\n"
     ]
    },
    {
     "name": "stderr",
     "output_type": "stream",
     "text": [
      "/tmp/ipykernel_29378/844006441.py:107: SettingWithCopyWarning: \n",
      "A value is trying to be set on a copy of a slice from a DataFrame.\n",
      "Try using .loc[row_indexer,col_indexer] = value instead\n",
      "\n",
      "See the caveats in the documentation: https://pandas.pydata.org/pandas-docs/stable/user_guide/indexing.html#returning-a-view-versus-a-copy\n",
      "  PicoSismo[\"filename\"] = [base_name]\n"
     ]
    },
    {
     "name": "stdout",
     "output_type": "stream",
     "text": [
      "Leyendo archivo CSV: data/lunar/test/data/S12_GradeB/xa.s12.00.mhz.1970-03-30HR00_evid00020.csv\n",
      "Leyendo archivo mseed: data/lunar/test/data/S12_GradeB/xa.s12.00.mhz.1970-03-30HR00_evid00020.mseed\n",
      "Reducción de ruido por filtro high-pass, band-pass\n",
      "Finaliza reducción\n",
      "Ejecutando la transformada de hilbert\n",
      "Transformada de hilbert finalizada\n",
      "Iniciando detección de sismos\n",
      "Detección de sismos finalizada\n",
      "Exportando los valores del rango del sismo a una carpeta\n",
      "Archivo guardado en: output/data_rango_sismo/DataRangoSismo_S12_GradeB_xa.s12.00.mhz.1970-03-30HR00_evid00020.csv\n"
     ]
    },
    {
     "name": "stderr",
     "output_type": "stream",
     "text": [
      "/tmp/ipykernel_29378/844006441.py:107: SettingWithCopyWarning: \n",
      "A value is trying to be set on a copy of a slice from a DataFrame.\n",
      "Try using .loc[row_indexer,col_indexer] = value instead\n",
      "\n",
      "See the caveats in the documentation: https://pandas.pydata.org/pandas-docs/stable/user_guide/indexing.html#returning-a-view-versus-a-copy\n",
      "  PicoSismo[\"filename\"] = [base_name]\n"
     ]
    },
    {
     "name": "stdout",
     "output_type": "stream",
     "text": [
      "Leyendo archivo CSV: data/lunar/test/data/S15_GradeB/xa.s15.00.mhz.1974-02-06HR00_evid00497.csv\n",
      "Leyendo archivo mseed: data/lunar/test/data/S15_GradeB/xa.s15.00.mhz.1974-02-06HR00_evid00497.mseed\n",
      "Reducción de ruido por filtro high-pass, band-pass\n",
      "Finaliza reducción\n",
      "Ejecutando la transformada de hilbert\n",
      "Transformada de hilbert finalizada\n",
      "Iniciando detección de sismos\n",
      "Detección de sismos finalizada\n",
      "Exportando los valores del rango del sismo a una carpeta\n",
      "Archivo guardado en: output/data_rango_sismo/DataRangoSismo_S15_GradeB_xa.s15.00.mhz.1974-02-06HR00_evid00497.csv\n"
     ]
    },
    {
     "name": "stderr",
     "output_type": "stream",
     "text": [
      "/tmp/ipykernel_29378/844006441.py:107: SettingWithCopyWarning: \n",
      "A value is trying to be set on a copy of a slice from a DataFrame.\n",
      "Try using .loc[row_indexer,col_indexer] = value instead\n",
      "\n",
      "See the caveats in the documentation: https://pandas.pydata.org/pandas-docs/stable/user_guide/indexing.html#returning-a-view-versus-a-copy\n",
      "  PicoSismo[\"filename\"] = [base_name]\n"
     ]
    },
    {
     "name": "stdout",
     "output_type": "stream",
     "text": [
      "Leyendo archivo CSV: data/lunar/test/data/S15_GradeB/xa.s15.00.mhz.1975-05-20HR00_evid00653.csv\n",
      "Leyendo archivo mseed: data/lunar/test/data/S15_GradeB/xa.s15.00.mhz.1975-05-20HR00_evid00653.mseed\n",
      "Reducción de ruido por filtro high-pass, band-pass\n",
      "Finaliza reducción\n",
      "Ejecutando la transformada de hilbert\n",
      "Transformada de hilbert finalizada\n",
      "Iniciando detección de sismos\n",
      "Detección de sismos finalizada\n",
      "Exportando los valores del rango del sismo a una carpeta\n",
      "Archivo guardado en: output/data_rango_sismo/DataRangoSismo_S15_GradeB_xa.s15.00.mhz.1975-05-20HR00_evid00653.csv\n"
     ]
    },
    {
     "name": "stderr",
     "output_type": "stream",
     "text": [
      "/tmp/ipykernel_29378/844006441.py:107: SettingWithCopyWarning: \n",
      "A value is trying to be set on a copy of a slice from a DataFrame.\n",
      "Try using .loc[row_indexer,col_indexer] = value instead\n",
      "\n",
      "See the caveats in the documentation: https://pandas.pydata.org/pandas-docs/stable/user_guide/indexing.html#returning-a-view-versus-a-copy\n",
      "  PicoSismo[\"filename\"] = [base_name]\n"
     ]
    },
    {
     "name": "stdout",
     "output_type": "stream",
     "text": [
      "Leyendo archivo CSV: data/lunar/test/data/S15_GradeB/xa.s15.00.mhz.1974-06-30HR00_evid00542.csv\n",
      "Leyendo archivo mseed: data/lunar/test/data/S15_GradeB/xa.s15.00.mhz.1974-06-30HR00_evid00542.mseed\n",
      "Reducción de ruido por filtro high-pass, band-pass\n",
      "Finaliza reducción\n",
      "Ejecutando la transformada de hilbert\n",
      "Transformada de hilbert finalizada\n",
      "Iniciando detección de sismos\n",
      "Detección de sismos finalizada\n",
      "Exportando los valores del rango del sismo a una carpeta\n",
      "Archivo guardado en: output/data_rango_sismo/DataRangoSismo_S15_GradeB_xa.s15.00.mhz.1974-06-30HR00_evid00542.csv\n"
     ]
    },
    {
     "name": "stderr",
     "output_type": "stream",
     "text": [
      "/tmp/ipykernel_29378/844006441.py:107: SettingWithCopyWarning: \n",
      "A value is trying to be set on a copy of a slice from a DataFrame.\n",
      "Try using .loc[row_indexer,col_indexer] = value instead\n",
      "\n",
      "See the caveats in the documentation: https://pandas.pydata.org/pandas-docs/stable/user_guide/indexing.html#returning-a-view-versus-a-copy\n",
      "  PicoSismo[\"filename\"] = [base_name]\n"
     ]
    },
    {
     "name": "stdout",
     "output_type": "stream",
     "text": [
      "Leyendo archivo CSV: data/lunar/test/data/S15_GradeB/xa.s15.00.mhz.1974-06-16HR00_evid00536.csv\n",
      "Leyendo archivo mseed: data/lunar/test/data/S15_GradeB/xa.s15.00.mhz.1974-06-16HR00_evid00536.mseed\n",
      "Reducción de ruido por filtro high-pass, band-pass\n",
      "Finaliza reducción\n",
      "Ejecutando la transformada de hilbert\n",
      "Transformada de hilbert finalizada\n",
      "Iniciando detección de sismos\n",
      "Detección de sismos finalizada\n",
      "Exportando los valores del rango del sismo a una carpeta\n",
      "Archivo guardado en: output/data_rango_sismo/DataRangoSismo_S15_GradeB_xa.s15.00.mhz.1974-06-16HR00_evid00536.csv\n"
     ]
    },
    {
     "name": "stderr",
     "output_type": "stream",
     "text": [
      "/tmp/ipykernel_29378/844006441.py:107: SettingWithCopyWarning: \n",
      "A value is trying to be set on a copy of a slice from a DataFrame.\n",
      "Try using .loc[row_indexer,col_indexer] = value instead\n",
      "\n",
      "See the caveats in the documentation: https://pandas.pydata.org/pandas-docs/stable/user_guide/indexing.html#returning-a-view-versus-a-copy\n",
      "  PicoSismo[\"filename\"] = [base_name]\n"
     ]
    },
    {
     "name": "stdout",
     "output_type": "stream",
     "text": [
      "Leyendo archivo CSV: data/lunar/test/data/S15_GradeB/xa.s15.00.mhz.1974-08-04HR00_evid00557.csv\n",
      "Leyendo archivo mseed: data/lunar/test/data/S15_GradeB/xa.s15.00.mhz.1974-08-04HR00_evid00557.mseed\n",
      "Reducción de ruido por filtro high-pass, band-pass\n",
      "Finaliza reducción\n",
      "Ejecutando la transformada de hilbert\n",
      "Transformada de hilbert finalizada\n",
      "Iniciando detección de sismos\n",
      "Detección de sismos finalizada\n",
      "Exportando los valores del rango del sismo a una carpeta\n",
      "Archivo guardado en: output/data_rango_sismo/DataRangoSismo_S15_GradeB_xa.s15.00.mhz.1974-08-04HR00_evid00557.csv\n"
     ]
    },
    {
     "name": "stderr",
     "output_type": "stream",
     "text": [
      "/tmp/ipykernel_29378/844006441.py:107: SettingWithCopyWarning: \n",
      "A value is trying to be set on a copy of a slice from a DataFrame.\n",
      "Try using .loc[row_indexer,col_indexer] = value instead\n",
      "\n",
      "See the caveats in the documentation: https://pandas.pydata.org/pandas-docs/stable/user_guide/indexing.html#returning-a-view-versus-a-copy\n",
      "  PicoSismo[\"filename\"] = [base_name]\n"
     ]
    },
    {
     "name": "stdout",
     "output_type": "stream",
     "text": [
      "Leyendo archivo CSV: data/lunar/test/data/S16_GradeB/xa.s16.00.mhz.1973-08-25HR00_evid00443.csv\n",
      "Leyendo archivo mseed: data/lunar/test/data/S16_GradeB/xa.s16.00.mhz.1973-08-25HR00_evid00443.mseed\n",
      "Reducción de ruido por filtro high-pass, band-pass\n",
      "Finaliza reducción\n",
      "Ejecutando la transformada de hilbert\n",
      "Transformada de hilbert finalizada\n",
      "Iniciando detección de sismos\n",
      "Detección de sismos finalizada\n",
      "Exportando los valores del rango del sismo a una carpeta\n",
      "Archivo guardado en: output/data_rango_sismo/DataRangoSismo_S16_GradeB_xa.s16.00.mhz.1973-08-25HR00_evid00443.csv\n"
     ]
    },
    {
     "name": "stderr",
     "output_type": "stream",
     "text": [
      "/tmp/ipykernel_29378/844006441.py:107: SettingWithCopyWarning: \n",
      "A value is trying to be set on a copy of a slice from a DataFrame.\n",
      "Try using .loc[row_indexer,col_indexer] = value instead\n",
      "\n",
      "See the caveats in the documentation: https://pandas.pydata.org/pandas-docs/stable/user_guide/indexing.html#returning-a-view-versus-a-copy\n",
      "  PicoSismo[\"filename\"] = [base_name]\n"
     ]
    },
    {
     "name": "stdout",
     "output_type": "stream",
     "text": [
      "Leyendo archivo CSV: data/lunar/test/data/S16_GradeB/xa.s16.00.mhz.1973-12-18HR00_evid00487.csv\n",
      "Leyendo archivo mseed: data/lunar/test/data/S16_GradeB/xa.s16.00.mhz.1973-12-18HR00_evid00487.mseed\n",
      "Reducción de ruido por filtro high-pass, band-pass\n",
      "Finaliza reducción\n",
      "Ejecutando la transformada de hilbert\n",
      "Transformada de hilbert finalizada\n",
      "Iniciando detección de sismos\n",
      "Detección de sismos finalizada\n",
      "Exportando los valores del rango del sismo a una carpeta\n",
      "Archivo guardado en: output/data_rango_sismo/DataRangoSismo_S16_GradeB_xa.s16.00.mhz.1973-12-18HR00_evid00487.csv\n"
     ]
    },
    {
     "name": "stderr",
     "output_type": "stream",
     "text": [
      "/tmp/ipykernel_29378/844006441.py:107: SettingWithCopyWarning: \n",
      "A value is trying to be set on a copy of a slice from a DataFrame.\n",
      "Try using .loc[row_indexer,col_indexer] = value instead\n",
      "\n",
      "See the caveats in the documentation: https://pandas.pydata.org/pandas-docs/stable/user_guide/indexing.html#returning-a-view-versus-a-copy\n",
      "  PicoSismo[\"filename\"] = [base_name]\n"
     ]
    },
    {
     "name": "stdout",
     "output_type": "stream",
     "text": [
      "Leyendo archivo CSV: data/lunar/test/data/S16_GradeB/xa.s16.00.mhz.1974-11-14HR00_evid00587.csv\n",
      "Leyendo archivo mseed: data/lunar/test/data/S16_GradeB/xa.s16.00.mhz.1974-11-14HR00_evid00587.mseed\n",
      "Reducción de ruido por filtro high-pass, band-pass\n",
      "Finaliza reducción\n",
      "Ejecutando la transformada de hilbert\n",
      "Transformada de hilbert finalizada\n",
      "Iniciando detección de sismos\n",
      "Detección de sismos finalizada\n",
      "Exportando los valores del rango del sismo a una carpeta\n",
      "Archivo guardado en: output/data_rango_sismo/DataRangoSismo_S16_GradeB_xa.s16.00.mhz.1974-11-14HR00_evid00587.csv\n"
     ]
    },
    {
     "name": "stderr",
     "output_type": "stream",
     "text": [
      "/tmp/ipykernel_29378/844006441.py:107: SettingWithCopyWarning: \n",
      "A value is trying to be set on a copy of a slice from a DataFrame.\n",
      "Try using .loc[row_indexer,col_indexer] = value instead\n",
      "\n",
      "See the caveats in the documentation: https://pandas.pydata.org/pandas-docs/stable/user_guide/indexing.html#returning-a-view-versus-a-copy\n",
      "  PicoSismo[\"filename\"] = [base_name]\n"
     ]
    }
   ],
   "source": [
    "\n",
    "Directorio = 'data/lunar/test/data/'\n",
    "\n",
    "# Listar todas las carpetas dentro del directorio\n",
    "SismosLuna = pd.DataFrame()\n",
    "\n",
    "# Iterar sobre cada carpeta\n",
    "csv_paths = get_list_of_data_testing(\"lunar\", \"csv\")[\"path\"].to_list()\n",
    "mseed_paths = get_list_of_data_testing(\"lunar\", \"mseed\")[\"path\"].to_list()\n",
    "\n",
    "# Iterar sobre los archivos CSV y mseed al mismo tiempo\n",
    "for ruta_csv in csv_paths:\n",
    "    archivo_csv = ruta_csv.split(\"/\")[-1]\n",
    "    base_name = \".\".join(ruta_csv.split(\"/\")[-1].split(\".\")[:-1])\n",
    "    ruta_mseed = mseed_paths[search_in_list(base_name, mseed_paths)]\n",
    "    \n",
    "    # Leer archivo CSV\n",
    "    DataTraining = pd.read_csv(ruta_csv)\n",
    "    print(f'Leyendo archivo CSV: {ruta_csv}')\n",
    "    \n",
    "    # Leer archivo mseed\n",
    "    st = read(ruta_mseed)\n",
    "    print(f'Leyendo archivo mseed: {ruta_mseed}')\n",
    "\n",
    "\n",
    "    # This is how you get the data and the time, which is in seconds\n",
    "    tr = st.traces[0].copy()\n",
    "    tr_times = tr.times()\n",
    "    tr_data = tr.data\n",
    "\n",
    "\n",
    "    print(\"Reducción de ruido por filtro high-pass, band-pass\")\n",
    "    # Definir la frecuencia de corte para el filtro high-pass\n",
    "    cutoff_freq = 3  # Ajusta este valor según sea necesario\n",
    "\n",
    "    # Crear una copia del objeto Stream\n",
    "    st_filt_hp = st.copy()\n",
    "\n",
    "    # Aplicar un filtro high-pass\n",
    "    st_filt_hp.filter('highpass', freq=cutoff_freq)\n",
    "\n",
    "\n",
    "    # Set the minimum frequency\n",
    "    minfreq = 0.5\n",
    "    maxfreq = 1\n",
    "\n",
    "    # Going to create a separate trace for the filter data\n",
    "    st_filt = st_filt_hp.copy()\n",
    "    st_filt.filter('bandpass',freqmin=minfreq,freqmax=maxfreq)\n",
    "    tr_filt = st_filt.traces[0].copy()\n",
    "    tr_times_filt = tr_filt.times()\n",
    "    tr_data_filt = tr_filt.data\n",
    "    print(\"Finaliza reducción\")\n",
    "\n",
    "    print(\"Ejecutando la transformada de hilbert\")\n",
    "    analytical_signal = hilbert(tr_data_filt)\n",
    "    \n",
    "    amplitude_envelope = np.abs(analytical_signal)\n",
    "    print(\"Transformada de hilbert finalizada\")\n",
    "\n",
    "\n",
    "    print(\"Iniciando detección de sismos\")\n",
    "    # Detectar picos en la energía\n",
    "    # Ajustar el umbral de acuerdo a tus datos\n",
    "    min_distance = 40000\n",
    "    threshold = np.percentile(amplitude_envelope, 99.5)  # Ajustar percentil si es necesario\n",
    "    peaks, properties = find_peaks(amplitude_envelope, height=threshold, distance=min_distance)\n",
    "\n",
    "    # Definir ventana para acumular energía alrededor de cada pico\n",
    "    window_size = 5000  # Puedes ajustar este tamaño según tus datos\n",
    "\n",
    "    # Calcular la energía acumulada en la vecindad de cada pico\n",
    "    accumulated_energy = []\n",
    "    for peak in peaks:\n",
    "        left = max(0, peak - window_size)\n",
    "        right = min(len(amplitude_envelope), peak + window_size)\n",
    "        energy_sum = np.sum(amplitude_envelope[left:right])\n",
    "        accumulated_energy.append(energy_sum)\n",
    "\n",
    "    # Seleccionar el pico con mayor energía acumulada\n",
    "    max_energy_peak_idx = np.argmax(accumulated_energy)\n",
    "    best_peak = peaks[max_energy_peak_idx]\n",
    "    print(\"Detección de sismos finalizada\")\n",
    "\n",
    "    print(\"Exportando los valores del rango del sismo a una carpeta\")\n",
    "    # Encontrar los índices donde la envolvente supera el umbral\n",
    "    above_threshold = amplitude_envelope > threshold\n",
    "    RangoSismo = DataTraining.iloc[above_threshold]\n",
    "\n",
    "\n",
    "    output_dir = 'output/data_rango_sismo/'  # Directorio donde se guardarán los archivos\n",
    "\n",
    "    # Crear el directorio de salida si no existe\n",
    "    if not os.path.exists(output_dir):\n",
    "        os.makedirs(output_dir)\n",
    "\n",
    "    # Definir un nombre único para el archivo basado en la carpeta y archivo original\n",
    "    nombre_salida = f'DataRangoSismo_{ruta_csv.split(\"/\")[-2]}_{archivo_csv[:-4]}.csv'\n",
    "    ruta_salida = os.path.join(output_dir, nombre_salida)\n",
    "    \n",
    "    # Guardar el archivo CSV\n",
    "    RangoSismo.to_csv(ruta_salida, index=False)\n",
    "    print(f'Archivo guardado en: {ruta_salida}')\n",
    "\n",
    "    PicoSismo = DataTraining.iloc[[best_peak]]\n",
    "\n",
    "    # Agregar las filas al DataFrame consolidado usando pd.concat\n",
    "    PicoSismo[\"filename\"] = [base_name]\n",
    "    SismosLuna = pd.concat([SismosLuna, PicoSismo], ignore_index=True)\n",
    "\n",
    "SismosLuna.to_csv('Sismos_Luna.csv', index=False)"
   ]
  },
  {
   "cell_type": "code",
   "execution_count": 3,
   "metadata": {},
   "outputs": [
    {
     "data": {
      "text/html": [
       "<div>\n",
       "<style scoped>\n",
       "    .dataframe tbody tr th:only-of-type {\n",
       "        vertical-align: middle;\n",
       "    }\n",
       "\n",
       "    .dataframe tbody tr th {\n",
       "        vertical-align: top;\n",
       "    }\n",
       "\n",
       "    .dataframe thead th {\n",
       "        text-align: right;\n",
       "    }\n",
       "</style>\n",
       "<table border=\"1\" class=\"dataframe\">\n",
       "  <thead>\n",
       "    <tr style=\"text-align: right;\">\n",
       "      <th></th>\n",
       "      <th>time_abs(%Y-%m-%dT%H:%M:%S.%f)</th>\n",
       "      <th>time_rel(sec)</th>\n",
       "      <th>velocity(m/s)</th>\n",
       "      <th>filename</th>\n",
       "    </tr>\n",
       "  </thead>\n",
       "  <tbody>\n",
       "    <tr>\n",
       "      <th>0</th>\n",
       "      <td>1972-11-08T18:51:41.932962</td>\n",
       "      <td>67901.433962</td>\n",
       "      <td>-3.581083e-09</td>\n",
       "      <td>xa.s16.00.mhz.1972-11-08HR00_evid00080</td>\n",
       "    </tr>\n",
       "    <tr>\n",
       "      <th>1</th>\n",
       "      <td>1974-12-12T17:49:14.702460</td>\n",
       "      <td>56031.245283</td>\n",
       "      <td>-6.409832e-11</td>\n",
       "      <td>xa.s16.00.mhz.1974-12-12HR02_evid00168</td>\n",
       "    </tr>\n",
       "    <tr>\n",
       "      <th>2</th>\n",
       "      <td>1974-12-15T09:14:54.254849</td>\n",
       "      <td>33293.735849</td>\n",
       "      <td>-2.701294e-09</td>\n",
       "      <td>xa.s16.00.mhz.1974-12-15HR00_evid00172</td>\n",
       "    </tr>\n",
       "    <tr>\n",
       "      <th>3</th>\n",
       "      <td>1973-07-31T10:02:26.188377</td>\n",
       "      <td>36145.660377</td>\n",
       "      <td>3.743215e-09</td>\n",
       "      <td>xa.s16.00.mhz.1973-07-31HR00_evid00123</td>\n",
       "    </tr>\n",
       "    <tr>\n",
       "      <th>4</th>\n",
       "      <td>1972-11-06T04:31:20.353057</td>\n",
       "      <td>16279.849057</td>\n",
       "      <td>-7.014655e-11</td>\n",
       "      <td>xa.s16.00.mhz.1972-11-06HR00_evid00079</td>\n",
       "    </tr>\n",
       "  </tbody>\n",
       "</table>\n",
       "</div>"
      ],
      "text/plain": [
       "  time_abs(%Y-%m-%dT%H:%M:%S.%f)  time_rel(sec)  velocity(m/s)  \\\n",
       "0     1972-11-08T18:51:41.932962   67901.433962  -3.581083e-09   \n",
       "1     1974-12-12T17:49:14.702460   56031.245283  -6.409832e-11   \n",
       "2     1974-12-15T09:14:54.254849   33293.735849  -2.701294e-09   \n",
       "3     1973-07-31T10:02:26.188377   36145.660377   3.743215e-09   \n",
       "4     1972-11-06T04:31:20.353057   16279.849057  -7.014655e-11   \n",
       "\n",
       "                                 filename  \n",
       "0  xa.s16.00.mhz.1972-11-08HR00_evid00080  \n",
       "1  xa.s16.00.mhz.1974-12-12HR02_evid00168  \n",
       "2  xa.s16.00.mhz.1974-12-15HR00_evid00172  \n",
       "3  xa.s16.00.mhz.1973-07-31HR00_evid00123  \n",
       "4  xa.s16.00.mhz.1972-11-06HR00_evid00079  "
      ]
     },
     "execution_count": 3,
     "metadata": {},
     "output_type": "execute_result"
    }
   ],
   "source": [
    "SismosLuna.head()"
   ]
  },
  {
   "cell_type": "markdown",
   "metadata": {},
   "source": [
    "Datos de Marte"
   ]
  },
  {
   "cell_type": "code",
   "execution_count": 5,
   "metadata": {},
   "outputs": [
    {
     "name": "stdout",
     "output_type": "stream",
     "text": [
      "Leyendo archivo CSV: data/mars/test/data/XB.ELYSE.02.BHV.2021-12-24HR22_evid0007.csv\n",
      "Leyendo archivo mseed: data/mars/test/data/XB.ELYSE.02.BHV.2021-12-24HR22_evid0007.mseed\n",
      "Reducción de ruido por filtro high-pass, band-pass\n",
      "Finaliza reducción\n",
      "Ejecutando la transformada de hilbert\n",
      "Transformada de hilbert finalizada\n",
      "Iniciando detección de sismos\n",
      "Detección de sismos finalizada\n",
      "Exportando los valores del rango del sismo a una carpeta\n",
      "Archivo guardado en: output/data_rango_sismo_Marte/DataRangoSismo_XB.ELYSE.02.BHV.2021-12-24HR22_evid0007.csv\n",
      "Leyendo archivo CSV: data/mars/test/data/XB.ELYSE.02.BHV.2019-05-23HR02_evid0041.csv\n",
      "Leyendo archivo mseed: data/mars/test/data/XB.ELYSE.02.BHV.2019-05-23HR02_evid0041.mseed\n",
      "Reducción de ruido por filtro high-pass, band-pass\n",
      "Finaliza reducción\n",
      "Ejecutando la transformada de hilbert\n",
      "Transformada de hilbert finalizada\n",
      "Iniciando detección de sismos\n",
      "Detección de sismos finalizada\n",
      "Exportando los valores del rango del sismo a una carpeta\n",
      "Archivo guardado en: output/data_rango_sismo_Marte/DataRangoSismo_XB.ELYSE.02.BHV.2019-05-23HR02_evid0041.csv\n",
      "Leyendo archivo CSV: data/mars/test/data/XB.ELYSE.02.BHV.2021-10-11HR23_evid0011.csv\n",
      "Leyendo archivo mseed: data/mars/test/data/XB.ELYSE.02.BHV.2021-10-11HR23_evid0011.mseed\n",
      "Reducción de ruido por filtro high-pass, band-pass\n",
      "Finaliza reducción\n",
      "Ejecutando la transformada de hilbert\n",
      "Transformada de hilbert finalizada\n",
      "Iniciando detección de sismos\n",
      "Detección de sismos finalizada\n",
      "Exportando los valores del rango del sismo a una carpeta\n",
      "Archivo guardado en: output/data_rango_sismo_Marte/DataRangoSismo_XB.ELYSE.02.BHV.2021-10-11HR23_evid0011.csv\n"
     ]
    },
    {
     "name": "stderr",
     "output_type": "stream",
     "text": [
      "/tmp/ipykernel_29378/2009510571.py:109: SettingWithCopyWarning: \n",
      "A value is trying to be set on a copy of a slice from a DataFrame.\n",
      "Try using .loc[row_indexer,col_indexer] = value instead\n",
      "\n",
      "See the caveats in the documentation: https://pandas.pydata.org/pandas-docs/stable/user_guide/indexing.html#returning-a-view-versus-a-copy\n",
      "  PicoSismo[\"filename\"] = [base_name]\n",
      "/tmp/ipykernel_29378/2009510571.py:109: SettingWithCopyWarning: \n",
      "A value is trying to be set on a copy of a slice from a DataFrame.\n",
      "Try using .loc[row_indexer,col_indexer] = value instead\n",
      "\n",
      "See the caveats in the documentation: https://pandas.pydata.org/pandas-docs/stable/user_guide/indexing.html#returning-a-view-versus-a-copy\n",
      "  PicoSismo[\"filename\"] = [base_name]\n",
      "/tmp/ipykernel_29378/2009510571.py:109: SettingWithCopyWarning: \n",
      "A value is trying to be set on a copy of a slice from a DataFrame.\n",
      "Try using .loc[row_indexer,col_indexer] = value instead\n",
      "\n",
      "See the caveats in the documentation: https://pandas.pydata.org/pandas-docs/stable/user_guide/indexing.html#returning-a-view-versus-a-copy\n",
      "  PicoSismo[\"filename\"] = [base_name]\n"
     ]
    },
    {
     "name": "stdout",
     "output_type": "stream",
     "text": [
      "Leyendo archivo CSV: data/mars/test/data/XB.ELYSE.02.BHV.2021-05-02HR01_evid0017.csv\n",
      "Leyendo archivo mseed: data/mars/test/data/XB.ELYSE.02.BHV.2021-05-02HR01_evid0017.mseed\n",
      "Reducción de ruido por filtro high-pass, band-pass\n",
      "Finaliza reducción\n",
      "Ejecutando la transformada de hilbert\n",
      "Transformada de hilbert finalizada\n",
      "Iniciando detección de sismos\n",
      "Detección de sismos finalizada\n",
      "Exportando los valores del rango del sismo a una carpeta\n",
      "Archivo guardado en: output/data_rango_sismo_Marte/DataRangoSismo_XB.ELYSE.02.BHV.2021-05-02HR01_evid0017.csv\n",
      "Leyendo archivo CSV: data/mars/test/data/XB.ELYSE.02.BHV.2022-05-04HR23_evid0001.csv\n",
      "Leyendo archivo mseed: data/mars/test/data/XB.ELYSE.02.BHV.2022-05-04HR23_evid0001.mseed\n",
      "Reducción de ruido por filtro high-pass, band-pass\n",
      "Finaliza reducción\n",
      "Ejecutando la transformada de hilbert\n",
      "Transformada de hilbert finalizada\n",
      "Iniciando detección de sismos\n",
      "Detección de sismos finalizada\n",
      "Exportando los valores del rango del sismo a una carpeta\n",
      "Archivo guardado en: output/data_rango_sismo_Marte/DataRangoSismo_XB.ELYSE.02.BHV.2022-05-04HR23_evid0001.csv\n",
      "Leyendo archivo CSV: data/mars/test/data/XB.ELYSE.02.BHV.2022-04-09HR22_evid0002.csv\n",
      "Leyendo archivo mseed: data/mars/test/data/XB.ELYSE.02.BHV.2022-04-09HR22_evid0002.mseed\n",
      "Reducción de ruido por filtro high-pass, band-pass\n",
      "Finaliza reducción\n",
      "Ejecutando la transformada de hilbert\n",
      "Transformada de hilbert finalizada\n",
      "Iniciando detección de sismos\n"
     ]
    },
    {
     "name": "stderr",
     "output_type": "stream",
     "text": [
      "/tmp/ipykernel_29378/2009510571.py:109: SettingWithCopyWarning: \n",
      "A value is trying to be set on a copy of a slice from a DataFrame.\n",
      "Try using .loc[row_indexer,col_indexer] = value instead\n",
      "\n",
      "See the caveats in the documentation: https://pandas.pydata.org/pandas-docs/stable/user_guide/indexing.html#returning-a-view-versus-a-copy\n",
      "  PicoSismo[\"filename\"] = [base_name]\n",
      "/tmp/ipykernel_29378/2009510571.py:109: SettingWithCopyWarning: \n",
      "A value is trying to be set on a copy of a slice from a DataFrame.\n",
      "Try using .loc[row_indexer,col_indexer] = value instead\n",
      "\n",
      "See the caveats in the documentation: https://pandas.pydata.org/pandas-docs/stable/user_guide/indexing.html#returning-a-view-versus-a-copy\n",
      "  PicoSismo[\"filename\"] = [base_name]\n",
      "/tmp/ipykernel_29378/2009510571.py:109: SettingWithCopyWarning: \n",
      "A value is trying to be set on a copy of a slice from a DataFrame.\n",
      "Try using .loc[row_indexer,col_indexer] = value instead\n",
      "\n",
      "See the caveats in the documentation: https://pandas.pydata.org/pandas-docs/stable/user_guide/indexing.html#returning-a-view-versus-a-copy\n",
      "  PicoSismo[\"filename\"] = [base_name]\n"
     ]
    },
    {
     "name": "stdout",
     "output_type": "stream",
     "text": [
      "Detección de sismos finalizada\n",
      "Exportando los valores del rango del sismo a una carpeta\n",
      "Archivo guardado en: output/data_rango_sismo_Marte/DataRangoSismo_XB.ELYSE.02.BHV.2022-04-09HR22_evid0002.csv\n",
      "Leyendo archivo CSV: data/mars/test/data/XB.ELYSE.02.BHV.2019-09-21HR03_evid0032.csv\n",
      "Leyendo archivo mseed: data/mars/test/data/XB.ELYSE.02.BHV.2019-09-21HR03_evid0032.mseed\n",
      "Reducción de ruido por filtro high-pass, band-pass\n",
      "Finaliza reducción\n",
      "Ejecutando la transformada de hilbert\n",
      "Transformada de hilbert finalizada\n",
      "Iniciando detección de sismos\n",
      "Detección de sismos finalizada\n",
      "Exportando los valores del rango del sismo a una carpeta\n",
      "Archivo guardado en: output/data_rango_sismo_Marte/DataRangoSismo_XB.ELYSE.02.BHV.2019-09-21HR03_evid0032.csv\n",
      "Leyendo archivo CSV: data/mars/test/data/XB.ELYSE.02.BHV.2019-07-26HR12_evid0033.csv\n",
      "Leyendo archivo mseed: data/mars/test/data/XB.ELYSE.02.BHV.2019-07-26HR12_evid0033.mseed\n",
      "Reducción de ruido por filtro high-pass, band-pass\n",
      "Finaliza reducción\n",
      "Ejecutando la transformada de hilbert\n",
      "Transformada de hilbert finalizada\n",
      "Iniciando detección de sismos\n",
      "Detección de sismos finalizada\n",
      "Exportando los valores del rango del sismo a una carpeta\n",
      "Archivo guardado en: output/data_rango_sismo_Marte/DataRangoSismo_XB.ELYSE.02.BHV.2019-07-26HR12_evid0033.csv\n",
      "Leyendo archivo CSV: data/mars/test/data/XB.ELYSE.02.BHV.2019-07-26HR12_evid0034.csv\n",
      "Leyendo archivo mseed: data/mars/test/data/XB.ELYSE.02.BHV.2019-07-26HR12_evid0034.mseed\n",
      "Reducción de ruido por filtro high-pass, band-pass\n",
      "Finaliza reducción\n",
      "Ejecutando la transformada de hilbert\n",
      "Transformada de hilbert finalizada\n",
      "Iniciando detección de sismos\n",
      "Detección de sismos finalizada\n",
      "Exportando los valores del rango del sismo a una carpeta\n",
      "Archivo guardado en: output/data_rango_sismo_Marte/DataRangoSismo_XB.ELYSE.02.BHV.2019-07-26HR12_evid0034.csv\n"
     ]
    },
    {
     "name": "stderr",
     "output_type": "stream",
     "text": [
      "/tmp/ipykernel_29378/2009510571.py:109: SettingWithCopyWarning: \n",
      "A value is trying to be set on a copy of a slice from a DataFrame.\n",
      "Try using .loc[row_indexer,col_indexer] = value instead\n",
      "\n",
      "See the caveats in the documentation: https://pandas.pydata.org/pandas-docs/stable/user_guide/indexing.html#returning-a-view-versus-a-copy\n",
      "  PicoSismo[\"filename\"] = [base_name]\n",
      "/tmp/ipykernel_29378/2009510571.py:109: SettingWithCopyWarning: \n",
      "A value is trying to be set on a copy of a slice from a DataFrame.\n",
      "Try using .loc[row_indexer,col_indexer] = value instead\n",
      "\n",
      "See the caveats in the documentation: https://pandas.pydata.org/pandas-docs/stable/user_guide/indexing.html#returning-a-view-versus-a-copy\n",
      "  PicoSismo[\"filename\"] = [base_name]\n",
      "/tmp/ipykernel_29378/2009510571.py:109: SettingWithCopyWarning: \n",
      "A value is trying to be set on a copy of a slice from a DataFrame.\n",
      "Try using .loc[row_indexer,col_indexer] = value instead\n",
      "\n",
      "See the caveats in the documentation: https://pandas.pydata.org/pandas-docs/stable/user_guide/indexing.html#returning-a-view-versus-a-copy\n",
      "  PicoSismo[\"filename\"] = [base_name]\n"
     ]
    }
   ],
   "source": [
    "Directorio = 'data/mars/test/data/'\n",
    "\n",
    "\n",
    "\n",
    "\n",
    "archivos = os.listdir(Directorio)\n",
    "SismosMarte = pd.DataFrame()\n",
    "# Filtrar archivos que sean CSV y mseed\n",
    "\n",
    "# Iterar sobre cada carpeta\n",
    "csv_paths = get_list_of_data_testing(\"mars\", \"csv\")[\"path\"].to_list()\n",
    "mseed_paths = get_list_of_data_testing(\"mars\", \"mseed\")[\"path\"].to_list()\n",
    "\n",
    "# Iterar sobre los archivos CSV y mseed al mismo tiempo\n",
    "for ruta_csv in csv_paths:\n",
    "    archivo_csv = ruta_csv.split(\"/\")[-1]\n",
    "    base_name = \".\".join(ruta_csv.split(\"/\")[-1].split(\".\")[:-1])\n",
    "    ruta_mseed = mseed_paths[search_in_list(base_name, mseed_paths)]\n",
    "\n",
    "    # Leer archivo CSV\n",
    "    DataTraining = pd.read_csv(ruta_csv)\n",
    "    print(f'Leyendo archivo CSV: {ruta_csv}')\n",
    "        \n",
    "    # Leer archivo mseed\n",
    "    st = read(ruta_mseed)\n",
    "    print(f'Leyendo archivo mseed: {ruta_mseed}')\n",
    "\n",
    "\n",
    "    # This is how you get the data and the time, which is in seconds\n",
    "    tr = st.traces[0].copy()\n",
    "    tr_times = tr.times()\n",
    "    tr_data = tr.data\n",
    "\n",
    "\n",
    "    print(\"Reducción de ruido por filtro high-pass, band-pass\")\n",
    "    # Definir la frecuencia de corte para el filtro high-pass\n",
    "    cutoff_freq = 3  # Ajusta este valor según sea necesario\n",
    "\n",
    "    # Crear una copia del objeto Stream\n",
    "    st_filt_hp = st.copy()\n",
    "\n",
    "    # Aplicar un filtro high-pass\n",
    "    st_filt_hp.filter('highpass', freq=cutoff_freq)\n",
    "\n",
    "\n",
    "    # Set the minimum frequency\n",
    "    minfreq = 0.5\n",
    "    maxfreq = 1\n",
    "\n",
    "    # Going to create a separate trace for the filter data\n",
    "    st_filt = st_filt_hp.copy()\n",
    "    st_filt.filter('bandpass',freqmin=minfreq,freqmax=maxfreq)\n",
    "    tr_filt = st_filt.traces[0].copy()\n",
    "    tr_times_filt = tr_filt.times()\n",
    "    tr_data_filt = tr_filt.data\n",
    "    print(\"Finaliza reducción\")\n",
    "\n",
    "\n",
    "    print(\"Ejecutando la transformada de hilbert\")\n",
    "    analytical_signal = hilbert(tr_data_filt)\n",
    "    amplitude_envelope = np.abs(analytical_signal)\n",
    "    print(\"Transformada de hilbert finalizada\")\n",
    "\n",
    "\n",
    "    print(\"Iniciando detección de sismos\")\n",
    "    # Detectar picos en la energía\n",
    "    # Ajustar el umbral de acuerdo a tus datos\n",
    "    min_distance = 40000\n",
    "    threshold = np.percentile(amplitude_envelope, 99.5)  # Ajustar percentil si es necesario\n",
    "    peaks, properties = find_peaks(amplitude_envelope, height=threshold, distance=min_distance)\n",
    "\n",
    "    # Definir ventana para acumular energía alrededor de cada pico\n",
    "    window_size = 5000  # Puedes ajustar este tamaño según tus datos\n",
    "\n",
    "    # Calcular la energía acumulada en la vecindad de cada pico\n",
    "    accumulated_energy = []\n",
    "    for peak in peaks:\n",
    "        left = max(0, peak - window_size)\n",
    "        right = min(len(amplitude_envelope), peak + window_size)\n",
    "        energy_sum = np.sum(amplitude_envelope[left:right])\n",
    "        accumulated_energy.append(energy_sum)\n",
    "\n",
    "    # Seleccionar el pico con mayor energía acumulada\n",
    "    max_energy_peak_idx = np.argmax(accumulated_energy)\n",
    "    best_peak = peaks[max_energy_peak_idx]\n",
    "    print(\"Detección de sismos finalizada\")\n",
    "\n",
    "    print(\"Exportando los valores del rango del sismo a una carpeta\")\n",
    "    # Encontrar los índices donde la envolvente supera el umbral\n",
    "    above_threshold = amplitude_envelope > threshold\n",
    "    RangoSismoMarte = DataTraining.iloc[above_threshold]\n",
    "\n",
    "\n",
    "    output_dir = 'output/data_rango_sismo_Marte/'  # Directorio donde se guardarán los archivos\n",
    "\n",
    "    # Crear el directorio de salida si no existe\n",
    "    if not os.path.exists(output_dir):\n",
    "        os.makedirs(output_dir)\n",
    "\n",
    "    # Definir un nombre único para el archivo basado en la carpeta y archivo original\n",
    "    nombre_salida = f'DataRangoSismo_{archivo_csv[:-4]}.csv'\n",
    "    ruta_salida = os.path.join(output_dir, nombre_salida)\n",
    "        \n",
    "    # Guardar el archivo CSV\n",
    "    RangoSismoMarte.to_csv(ruta_salida, index=False)\n",
    "    print(f'Archivo guardado en: {ruta_salida}')\n",
    "\n",
    "    PicoSismo = DataTraining.iloc[[best_peak]]\n",
    "    PicoSismo[\"filename\"] = [base_name]\n",
    "\n",
    "    # Agregar las filas al DataFrame consolidado usando pd.concat\n",
    "    SismosMarte = pd.concat([SismosMarte, PicoSismo], ignore_index=True)\n",
    "\n",
    "SismosMarte.to_csv('Sismos_Marte.csv', index=False)"
   ]
  },
  {
   "cell_type": "code",
   "execution_count": null,
   "metadata": {},
   "outputs": [],
   "source": [
    "best_peak"
   ]
  }
 ],
 "metadata": {
  "kernelspec": {
   "display_name": "Python 3",
   "language": "python",
   "name": "python3"
  },
  "language_info": {
   "codemirror_mode": {
    "name": "ipython",
    "version": 3
   },
   "file_extension": ".py",
   "mimetype": "text/x-python",
   "name": "python",
   "nbconvert_exporter": "python",
   "pygments_lexer": "ipython3",
   "version": "3.10.15"
  }
 },
 "nbformat": 4,
 "nbformat_minor": 2
}
